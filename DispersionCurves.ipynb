{
 "cells": [
  {
   "cell_type": "code",
   "execution_count": 1,
   "metadata": {},
   "outputs": [],
   "source": [
    "import numpy as np\n",
    "import matplotlib.pyplot as plt\n",
    "import numpy as np\n",
    "from scipy.sparse.linalg import eigsh\n",
    "import scipy as sps\n",
    "import csv\n",
    "#import pylab as plt\n",
    "#import qutip as qt"
   ]
  },
  {
   "cell_type": "code",
   "execution_count": 2,
   "metadata": {},
   "outputs": [],
   "source": [
    "def Hamiltonian(kx, ky, theta):\n",
    "    \n",
    "    theta  = theta/180.0*np.pi \n",
    "    b1m    = 8*np.pi*np.sin(theta/2)/3/d*np.array([0.5, -np.sqrt(3)/2])\n",
    "    b2m    = 8*np.pi*np.sin(theta/2)/3/d*np.array([0.5, np.sqrt(3)/2])\n",
    "    qb     = 8*np.pi*np.sin(theta/2)/3/np.sqrt(3)/d*np.array([0, -1])\n",
    "    K1     = 8*np.pi*np.sin(theta/2)/3/np.sqrt(3)/d*np.array([-np.sqrt(3)/2,-0.5])\n",
    "    K2     = 8*np.pi*np.sin(theta/2)/3/np.sqrt(3)/d*np.array([-np.sqrt(3)/2,0.5])\n",
    "    H = np.array(np.zeros((4*siteN, 4*siteN)), dtype=complex)\n",
    "    \n",
    "    for i in np.arange(siteN):\n",
    "        #diagonal term\n",
    "        ix = L[i, 0]\n",
    "        iy = L[i, 1]\n",
    "        ax = kx - valley*K1[0] + ix*b1m[0] + iy*b2m[0]\n",
    "        ay = ky - valley*K1[1] + ix*b1m[1] + iy*b2m[1]\n",
    "\n",
    "        qx = np.cos(theta/2) * ax + np.sin(theta/2) * ay\n",
    "        qy =-np.sin(theta/2) * ax + np.cos(theta/2) * ay\n",
    "         \n",
    "        H[2*i, 2*i+1] = hv * (valley*qx - I*qy)\n",
    "        H[2*i+1, 2*i] = hv * (valley*qx + I*qy)\n",
    "\n",
    "        #off-diagonal term\n",
    "        j = i + siteN\n",
    "        H[2*j, 2*i]     = TqbD[0, 0]\n",
    "        H[2*j, 2*i+1]   = TqbD[0, 1]\n",
    "        H[2*j+1, 2*i]   = TqbD[1, 0]\n",
    "        H[2*j+1, 2*i+1] = TqbD[1, 1]\n",
    "        if (iy != valley*N and ix != valley*N):\n",
    "            j = invL[ix+1+N, iy+valley*1+N] + siteN\n",
    "            H[2*j, 2*i]     = TqtrD[0, 0]\n",
    "            H[2*j, 2*i+1]   = TqtrD[0, 1]\n",
    "            H[2*j+1, 2*i]   = TqtrD[1, 0]\n",
    "            H[2*j+1, 2*i+1] = TqtrD[1, 1]\n",
    "        if (ix != valley*N):\n",
    "            j = invL[ix+valley*1+N, iy+N] + siteN\n",
    "            H[2*j, 2*i]     = TqtlD[0, 0]\n",
    "            H[2*j, 2*i+1]   = TqtlD[0, 1]\n",
    "            H[2*j+1, 2*i]   = TqtlD[1, 0]\n",
    "            H[2*j+1, 2*i+1] = TqtlD[1, 1]\n",
    "        \n",
    "\n",
    "    for i in np.arange(siteN, 2*siteN):\n",
    "        #diagnoal term\n",
    "        j = i - siteN\n",
    "        ix = L[j, 0]\n",
    "        iy = L[j, 1]\n",
    "        ax = kx  - valley*K2[0] + ix*b1m[0] + iy*b2m[0] \n",
    "        ay = ky  - valley*K2[1] + ix*b1m[1] + iy*b2m[1]\n",
    "\n",
    "        qx = np.cos(theta/2) * ax - np.sin(theta/2) * ay\n",
    "        qy = np.sin(theta/2) * ax + np.cos(theta/2) * ay\n",
    "\n",
    "        H[2*i, 2*i+1] = hv * (valley*qx - I*qy)\n",
    "        H[2*i+1, 2*i] = hv * (valley*qx + I*qy)\n",
    "\n",
    "        #off-diagonal term\n",
    "        H[2*j, 2*i]     = Tqb[0, 0]\n",
    "        H[2*j, 2*i+1]   = Tqb[0, 1]\n",
    "        H[2*j+1, 2*i]   = Tqb[1, 0]\n",
    "        H[2*j+1, 2*i+1] = Tqb[1, 1]\n",
    "        if (iy != (-valley*N) and ix != (-valley*N)):\n",
    "            j = invL[ix-1+N, iy-valley*1+N]\n",
    "            H[2*j, 2*i]     = Tqtr[0, 0]\n",
    "            H[2*j, 2*i+1]   = Tqtr[0, 1]\n",
    "            H[2*j+1, 2*i]   = Tqtr[1, 0]\n",
    "            H[2*j+1, 2*i+1] = Tqtr[1, 1]\n",
    "        if (ix != -valley*N):\n",
    "            j = invL[ix-valley*1+N, iy+N]\n",
    "            H[2*j, 2*i]     = Tqtl[0, 0]\n",
    "            H[2*j, 2*i+1]   = Tqtl[0, 1]\n",
    "            H[2*j+1, 2*i]   = Tqtl[1, 0]\n",
    "            H[2*j+1, 2*i+1] = Tqtl[1, 1]\n",
    "\n",
    "\n",
    "    eigensystem = sps.sparse.linalg.eigsh(H, k = levels, which = \"SM\")\n",
    "    \n",
    "    return eigensystem"
   ]
  },
  {
   "cell_type": "code",
   "execution_count": null,
   "metadata": {},
   "outputs": [],
   "source": [
    "kD = -qb[1]\n",
    "\n",
    "AtoB = np.arange(-1/2, 1/2, 1/KDens)\n",
    "BtoC = np.arange(-1, 0, 1/KDens)\n",
    "CtoD = np.arange(0, sqrt(3), 1/KDens)\n",
    "DtoA = np.arange(0, 1, 1/KDens)\n",
    "\n",
    "AllK  = len(AtoB) + len(BtoC) + len(CtoD) + len(DtoA)\n",
    "E  = np.zeros((AllK,4*siteN), float)\n",
    "\n",
    "\n",
    "for i in range(0, len(AtoB)):\n",
    "    k = AtoB[i]\n",
    "    E[i] = np.real(Hamiltonian(sqrt(3)/2*kD, k*kD))\n",
    "for i in range(len(AtoB), len(AtoB)+len(BtoC)):\n",
    "    k = BtoC[i-len(AtoB)]\n",
    "    E[i] = np.real(Hamiltonian(0, k*kD))\n",
    "for i in range(len(AtoB)+len(BtoC), len(AtoB)+len(BtoC)+len(CtoD)):\n",
    "    k = CtoD[i-len(AtoB)-len(BtoC)]\n",
    "    E[i] = np.real(Hamiltonian(1.0/2*k*kD, -k*sqrt(3)/2*kD))\n",
    "for i in range(len(AtoB)+len(BtoC)+len(CtoD), AllK):\n",
    "    k = DtoA[i-len(AtoB)-len(BtoC)-len(CtoD)]\n",
    "    E[i] = np.real(Hamiltonian(-sqrt(3)/2*k*kD, -1/2*k*kD))\n",
    "\n",
    "\n",
    "%matplotlib qt\n",
    "\n",
    "for j in range(0,4*siteN):\n",
    "    plt.plot(np.arange(AllK), E[:,j], linestyle=\"-\", linewidth=2)\n",
    "plt.title(\"Moir$\\\\'{e}$ bands of twisted bilayer graphene\", fontsize=20)\n",
    "plt.xlim(0, AllK)\n",
    "plt.ylim(-2000,2000)\n",
    "plt.yticks(fontsize=13)\n",
    "plt.ylabel('E(meV)', fontsize=20)\n",
    "plt.tight_layout()\n",
    "plt.show()"
   ]
  },
  {
   "cell_type": "code",
   "execution_count": null,
   "metadata": {},
   "outputs": [],
   "source": [
    "-3.612099949722249459e-01 3.612099949722249459e-01"
   ]
  },
  {
   "cell_type": "code",
   "execution_count": 41,
   "metadata": {},
   "outputs": [],
   "source": [
    "vals = np.array([-0.1, 0.1])\n",
    "omega = 0.2\n",
    "e_win = 0.005\n",
    "result = np.where(vals>0, 0, vals)\n",
    "occup = np.where(result<0, 1 ,result)"
   ]
  },
  {
   "cell_type": "code",
   "execution_count": 42,
   "metadata": {},
   "outputs": [
    {
     "data": {
      "text/plain": [
       "array([1., 0.])"
      ]
     },
     "execution_count": 42,
     "metadata": {},
     "output_type": "execute_result"
    }
   ],
   "source": [
    "occup"
   ]
  },
  {
   "cell_type": "code",
   "execution_count": 69,
   "metadata": {},
   "outputs": [],
   "source": [
    "omega_minus = max(omega-e_win, 1.e-6)\n",
    "omega_plus = omega + e_win\n",
    "inds_ef = np.intersect1d(np.where(occup>0)[0], np.where(occup<1)[0])\n",
    "if len(inds_ef):\n",
    "    ind_vbm = max(inds_ef)\n",
    "    ind_cbm = min(inds_ef)\n",
    "else:\n",
    "    ind_vbm = max(np.where(occup==1)[0])\n",
    "    ind_cbm = min(np.where(occup==0)[0])\n",
    "vbm = vals[ind_vbm]\n",
    "cbm = vals[ind_cbm]\n",
    "    \n",
    "e_bott = cbm - omega - e_win\n",
    "e_top = vbm + omega + e_win\n",
    "inds_shot = np.intersect1d(np.where(vals>=e_bott), np.where(vals<=e_top))\n",
    "\n",
    "inds_vb = np.arange(ind_vbm, inds_shot[0]-1, -1)\n",
    "inds_cb = np.arange(ind_cbm, inds_shot[-1]+1)\n"
   ]
  },
  {
   "cell_type": "code",
   "execution_count": 71,
   "metadata": {},
   "outputs": [
    {
     "data": {
      "text/plain": [
       "array([1., 0.])"
      ]
     },
     "execution_count": 71,
     "metadata": {},
     "output_type": "execute_result"
    }
   ],
   "source": [
    "occup"
   ]
  },
  {
   "cell_type": "code",
   "execution_count": 44,
   "metadata": {},
   "outputs": [
    {
     "data": {
      "text/plain": [
       "array([], dtype=int64)"
      ]
     },
     "execution_count": 44,
     "metadata": {},
     "output_type": "execute_result"
    }
   ],
   "source": [
    "inds_ef"
   ]
  },
  {
   "cell_type": "code",
   "execution_count": 70,
   "metadata": {},
   "outputs": [
    {
     "data": {
      "text/plain": [
       "0"
      ]
     },
     "execution_count": 70,
     "metadata": {},
     "output_type": "execute_result"
    }
   ],
   "source": [
    "ind_vbm"
   ]
  },
  {
   "cell_type": "code",
   "execution_count": 46,
   "metadata": {},
   "outputs": [
    {
     "data": {
      "text/plain": [
       "1"
      ]
     },
     "execution_count": 46,
     "metadata": {},
     "output_type": "execute_result"
    }
   ],
   "source": [
    "ind_cbm"
   ]
  },
  {
   "cell_type": "code",
   "execution_count": 47,
   "metadata": {},
   "outputs": [
    {
     "data": {
      "text/plain": [
       "-0.10500000000000001"
      ]
     },
     "execution_count": 47,
     "metadata": {},
     "output_type": "execute_result"
    }
   ],
   "source": [
    "e_bott"
   ]
  },
  {
   "cell_type": "code",
   "execution_count": 48,
   "metadata": {},
   "outputs": [
    {
     "data": {
      "text/plain": [
       "0.10500000000000001"
      ]
     },
     "execution_count": 48,
     "metadata": {},
     "output_type": "execute_result"
    }
   ],
   "source": [
    "e_top"
   ]
  },
  {
   "cell_type": "code",
   "execution_count": 49,
   "metadata": {},
   "outputs": [
    {
     "data": {
      "text/plain": [
       "array([0, 1])"
      ]
     },
     "execution_count": 49,
     "metadata": {},
     "output_type": "execute_result"
    }
   ],
   "source": [
    "np.intersect1d(np.where(vals>=e_bott), np.where(vals<=e_top))"
   ]
  },
  {
   "cell_type": "code",
   "execution_count": 50,
   "metadata": {},
   "outputs": [
    {
     "data": {
      "text/plain": [
       "(array([0, 1]),)"
      ]
     },
     "execution_count": 50,
     "metadata": {},
     "output_type": "execute_result"
    }
   ],
   "source": [
    "np.where(vals>=e_bott)"
   ]
  },
  {
   "cell_type": "code",
   "execution_count": 51,
   "metadata": {},
   "outputs": [
    {
     "data": {
      "text/plain": [
       "(array([0, 1]),)"
      ]
     },
     "execution_count": 51,
     "metadata": {},
     "output_type": "execute_result"
    }
   ],
   "source": [
    "np.where(vals<=e_top)"
   ]
  },
  {
   "cell_type": "code",
   "execution_count": 66,
   "metadata": {},
   "outputs": [],
   "source": [
    "inds_shot = np.intersect1d(np.where(vals>=e_bott), np.where(vals<=e_top))"
   ]
  },
  {
   "cell_type": "code",
   "execution_count": 67,
   "metadata": {},
   "outputs": [
    {
     "data": {
      "text/plain": [
       "array([0, 1])"
      ]
     },
     "execution_count": 67,
     "metadata": {},
     "output_type": "execute_result"
    }
   ],
   "source": [
    "inds_shot"
   ]
  },
  {
   "cell_type": "code",
   "execution_count": 68,
   "metadata": {},
   "outputs": [],
   "source": [
    "def add_pair(ind_vb):\n",
    "    e0 = vals[ind_vb]\n",
    "    des = vals - e0\n",
    "    inds_chosen = np.intersect1d(np.where(des>=omega_minus)[0], np.where(des<=omega_plus)[0])\n",
    "    inds_chosen = np.intersect1d(inds_chosen, inds_cb)\n",
    "    pairs_chosen = [[ind_vb, indi] for indi in inds_chosen]\n",
    "    return pairs_chosen\n",
    "pairs = [add_pair(ind_vb) for ind_vb in inds_vb]\n",
    "pairs = [i for i in pairs if len(i)]"
   ]
  },
  {
   "cell_type": "code",
   "execution_count": 55,
   "metadata": {},
   "outputs": [
    {
     "data": {
      "text/plain": [
       "[[[0, 1]]]"
      ]
     },
     "execution_count": 55,
     "metadata": {},
     "output_type": "execute_result"
    }
   ],
   "source": [
    "pairs"
   ]
  },
  {
   "cell_type": "code",
   "execution_count": 56,
   "metadata": {},
   "outputs": [
    {
     "data": {
      "text/plain": [
       "array([0])"
      ]
     },
     "execution_count": 56,
     "metadata": {},
     "output_type": "execute_result"
    }
   ],
   "source": [
    "inds_vb"
   ]
  },
  {
   "cell_type": "code",
   "execution_count": 32,
   "metadata": {},
   "outputs": [
    {
     "ename": "NameError",
     "evalue": "name 'e0' is not defined",
     "output_type": "error",
     "traceback": [
      "\u001b[0;31m---------------------------------------------------------------------------\u001b[0m",
      "\u001b[0;31mNameError\u001b[0m                                 Traceback (most recent call last)",
      "\u001b[0;32m<ipython-input-32-abc4de6ccb5e>\u001b[0m in \u001b[0;36m<module>\u001b[0;34m\u001b[0m\n\u001b[0;32m----> 1\u001b[0;31m \u001b[0me0\u001b[0m\u001b[0;34m\u001b[0m\u001b[0;34m\u001b[0m\u001b[0m\n\u001b[0m",
      "\u001b[0;31mNameError\u001b[0m: name 'e0' is not defined"
     ]
    }
   ],
   "source": [
    "e0"
   ]
  },
  {
   "cell_type": "code",
   "execution_count": 57,
   "metadata": {},
   "outputs": [],
   "source": [
    "ind_vb = 0\n",
    "e0 = vals[ind_vb]\n",
    "des = vals - e0\n",
    "inds_chosen = np.intersect1d(np.where(des>=omega_minus)[0], np.where(des<=omega_plus)[0])\n",
    "inds_chosen = np.intersect1d(inds_chosen, inds_cb)\n",
    "pairs_chosen = [[ind_vb, indi] for indi in inds_chosen]"
   ]
  },
  {
   "cell_type": "code",
   "execution_count": 58,
   "metadata": {},
   "outputs": [
    {
     "data": {
      "text/plain": [
       "-0.1"
      ]
     },
     "execution_count": 58,
     "metadata": {},
     "output_type": "execute_result"
    }
   ],
   "source": [
    "e0"
   ]
  },
  {
   "cell_type": "code",
   "execution_count": 59,
   "metadata": {},
   "outputs": [
    {
     "data": {
      "text/plain": [
       "array([0. , 0.2])"
      ]
     },
     "execution_count": 59,
     "metadata": {},
     "output_type": "execute_result"
    }
   ],
   "source": [
    "des"
   ]
  },
  {
   "cell_type": "code",
   "execution_count": 60,
   "metadata": {},
   "outputs": [
    {
     "data": {
      "text/plain": [
       "array([1])"
      ]
     },
     "execution_count": 60,
     "metadata": {},
     "output_type": "execute_result"
    }
   ],
   "source": [
    "inds_chosen"
   ]
  },
  {
   "cell_type": "code",
   "execution_count": 61,
   "metadata": {},
   "outputs": [
    {
     "data": {
      "text/plain": [
       "array([1])"
      ]
     },
     "execution_count": 61,
     "metadata": {},
     "output_type": "execute_result"
    }
   ],
   "source": [
    "np.intersect1d(np.where(des>=omega_minus)[0], np.where(des<=omega_plus)[0])"
   ]
  },
  {
   "cell_type": "code",
   "execution_count": 62,
   "metadata": {},
   "outputs": [
    {
     "data": {
      "text/plain": [
       "0.195"
      ]
     },
     "execution_count": 62,
     "metadata": {},
     "output_type": "execute_result"
    }
   ],
   "source": [
    "omega_minus"
   ]
  },
  {
   "cell_type": "code",
   "execution_count": 63,
   "metadata": {},
   "outputs": [
    {
     "data": {
      "text/plain": [
       "0.20500000000000002"
      ]
     },
     "execution_count": 63,
     "metadata": {},
     "output_type": "execute_result"
    }
   ],
   "source": [
    "omega_plus"
   ]
  },
  {
   "cell_type": "code",
   "execution_count": 65,
   "metadata": {},
   "outputs": [
    {
     "data": {
      "text/plain": [
       "[[0, 1]]"
      ]
     },
     "execution_count": 65,
     "metadata": {},
     "output_type": "execute_result"
    }
   ],
   "source": [
    "pairs_chosen"
   ]
  },
  {
   "cell_type": "code",
   "execution_count": 76,
   "metadata": {},
   "outputs": [],
   "source": [
    "def pick_up_transition_pairs(vals, omega, e_win, occup):\n",
    "    omega_minus = max(omega-e_win, 1.e-6)\n",
    "    omega_plus = omega + e_win\n",
    "    inds_ef = np.intersect1d(np.where(occup>0)[0], np.where(occup<1)[0])\n",
    "    if len(inds_ef):\n",
    "        ind_vbm = max(inds_ef)\n",
    "        ind_cbm = min(inds_ef)\n",
    "    else:\n",
    "        ind_vbm = max(np.where(occup==1)[0])\n",
    "        ind_cbm = min(np.where(occup==0)[0])\n",
    "    vbm = vals[ind_vbm]\n",
    "    cbm = vals[ind_cbm]\n",
    "    \n",
    "    e_bott = cbm - omega - e_win\n",
    "    e_top = vbm + omega + e_win\n",
    "    inds_shot = np.intersect1d(np.where(vals>=e_bott), np.where(vals<=e_top))\n",
    "\n",
    "    if len(inds_shot):\n",
    "        inds_vb = np.arange(ind_vbm, inds_shot[0]-1, -1)\n",
    "        inds_cb = np.arange(ind_cbm, inds_shot[-1]+1)\n",
    "    else:\n",
    "        inds_vb = []\n",
    "        inds_cb = []\n",
    "\n",
    "    def add_pair(ind_vb):\n",
    "        e0 = vals[ind_vb]\n",
    "        des = vals - e0\n",
    "        inds_chosen = np.intersect1d(np.where(des>=omega_minus)[0], np.where(des<=omega_plus)[0])\n",
    "        inds_chosen = np.intersect1d(inds_chosen, inds_cb)\n",
    "        pairs_chosen = [[ind_vb, indi] for indi in inds_chosen]\n",
    "        return pairs_chosen\n",
    "    pairs = [add_pair(ind_vb) for ind_vb in inds_vb]\n",
    "#    pairs = [add_pair(ind_vbm)]\n",
    "    pairs = [i for i in pairs if len(i)]\n",
    "    if len(pairs):\n",
    "        return np.concatenate(pairs)\n",
    "    else:\n",
    "        return []\n",
    "    \n",
    "def occup_0K(vals, spin=1):\n",
    "    \"\"\"\n",
    "    for graphene system, one pz orbital contribute one electron\n",
    "    \"\"\"\n",
    "    result = np.where(vals>0, 0, vals)\n",
    "    result2 = np.where(result<0, 1 ,result)\n",
    "\n",
    "    return result2"
   ]
  },
  {
   "cell_type": "code",
   "execution_count": 73,
   "metadata": {},
   "outputs": [],
   "source": [
    "vals = [[-3.612099949722249459e-01, 3.612099949722249459e-01],\n",
    "[-3.522954985094583491e-01, 3.522954985094583491e-01],\n",
    "[-3.436244428491525005e-01, 3.436244428491525005e-01],\n",
    "[-3.352157198401093385e-01, 3.352157198401093385e-01],\n",
    "[-3.270895620218176592e-01, 3.270895620218176592e-01],\n",
    "[-3.192675460965237466e-01, 3.192675460965237466e-01],\n",
    "[-3.117725646180832255e-01, 3.117725646180832255e-01],\n",
    "[-3.046287572730904669e-01, 3.046287572730904669e-01]]"
   ]
  },
  {
   "cell_type": "code",
   "execution_count": 74,
   "metadata": {},
   "outputs": [
    {
     "data": {
      "text/plain": [
       "[-0.36120999497222495, 0.36120999497222495]"
      ]
     },
     "execution_count": 74,
     "metadata": {},
     "output_type": "execute_result"
    }
   ],
   "source": [
    "vals[0]"
   ]
  },
  {
   "cell_type": "code",
   "execution_count": 89,
   "metadata": {},
   "outputs": [
    {
     "data": {
      "text/plain": [
       "array([[0, 1]])"
      ]
     },
     "execution_count": 89,
     "metadata": {},
     "output_type": "execute_result"
    }
   ],
   "source": [
    "omega = 0.75\n",
    "e_win = 0.1\n",
    "occup = occup_0K(np.array(vals[0]))\n",
    "pick_up_transition_pairs(np.array(vals[0]), omega, e_win, occup)"
   ]
  },
  {
   "cell_type": "code",
   "execution_count": 92,
   "metadata": {},
   "outputs": [
    {
     "data": {
      "text/plain": [
       "0"
      ]
     },
     "execution_count": 92,
     "metadata": {},
     "output_type": "execute_result"
    }
   ],
   "source": [
    "max(np.where(occup==1)[0])"
   ]
  },
  {
   "cell_type": "code",
   "execution_count": 93,
   "metadata": {},
   "outputs": [
    {
     "data": {
      "text/plain": [
       "array([0])"
      ]
     },
     "execution_count": 93,
     "metadata": {},
     "output_type": "execute_result"
    }
   ],
   "source": [
    "inds_vb"
   ]
  },
  {
   "cell_type": "code",
   "execution_count": 94,
   "metadata": {},
   "outputs": [],
   "source": [
    "array = np.array([0.0,0.0])"
   ]
  },
  {
   "cell_type": "code",
   "execution_count": 95,
   "metadata": {},
   "outputs": [
    {
     "data": {
      "text/plain": [
       "array([ True,  True])"
      ]
     },
     "execution_count": 95,
     "metadata": {},
     "output_type": "execute_result"
    }
   ],
   "source": [
    "array==0"
   ]
  },
  {
   "cell_type": "code",
   "execution_count": 99,
   "metadata": {},
   "outputs": [
    {
     "name": "stdout",
     "output_type": "stream",
     "text": [
      "go\n"
     ]
    }
   ],
   "source": [
    "if array[0]==0:\n",
    "    print('go')"
   ]
  },
  {
   "cell_type": "code",
   "execution_count": 101,
   "metadata": {},
   "outputs": [
    {
     "data": {
      "text/plain": [
       "array([0.5, 0.5])"
      ]
     },
     "execution_count": 101,
     "metadata": {},
     "output_type": "execute_result"
    }
   ],
   "source": [
    "np.where(array==0, 0.5, array)"
   ]
  },
  {
   "cell_type": "code",
   "execution_count": 104,
   "metadata": {},
   "outputs": [
    {
     "data": {
      "text/plain": [
       "2"
      ]
     },
     "execution_count": 104,
     "metadata": {},
     "output_type": "execute_result"
    }
   ],
   "source": [
    "8//3"
   ]
  },
  {
   "cell_type": "code",
   "execution_count": 105,
   "metadata": {},
   "outputs": [
    {
     "data": {
      "text/plain": [
       "2"
      ]
     },
     "execution_count": 105,
     "metadata": {},
     "output_type": "execute_result"
    }
   ],
   "source": [
    "8%3"
   ]
  },
  {
   "cell_type": "code",
   "execution_count": 108,
   "metadata": {},
   "outputs": [
    {
     "name": "stdout",
     "output_type": "stream",
     "text": [
      "0\n",
      "0\n",
      "1\n",
      "1\n",
      "2\n",
      "2\n"
     ]
    }
   ],
   "source": [
    "nx, ny = (3, 2)\n",
    "x = np.linspace(0, 1, nx)\n",
    "y = np.linspace(0, 1, ny)\n",
    "xv, yv = np.meshgrid(x, y, indexing='ij')\n",
    "for i in range(nx):\n",
    "    for j in range(ny):\n",
    "        print(i)"
   ]
  },
  {
   "cell_type": "code",
   "execution_count": 121,
   "metadata": {},
   "outputs": [],
   "source": [
    "a = np.array([[1,2],[3,2]])\n",
    "b = np.identity(10)\n",
    "\n",
    "c = np.empty((a.shape[0], a.shape[1] * b.shape[1]))\n",
    "for i in range(c.shape[0]):\n",
    "    c[i,:] = np.kron(a[i], b[i])"
   ]
  },
  {
   "cell_type": "code",
   "execution_count": 110,
   "metadata": {},
   "outputs": [
    {
     "data": {
      "text/plain": [
       "array([[1., 1., 2., 2.],\n",
       "       [3., 3., 2., 2.]])"
      ]
     },
     "execution_count": 110,
     "metadata": {},
     "output_type": "execute_result"
    }
   ],
   "source": [
    "c"
   ]
  },
  {
   "cell_type": "code",
   "execution_count": 111,
   "metadata": {},
   "outputs": [],
   "source": [
    "c = np.add.outer(a,b)"
   ]
  },
  {
   "cell_type": "code",
   "execution_count": 112,
   "metadata": {},
   "outputs": [
    {
     "data": {
      "text/plain": [
       "array([[[[2, 2],\n",
       "         [2, 2]],\n",
       "\n",
       "        [[3, 3],\n",
       "         [3, 3]]],\n",
       "\n",
       "\n",
       "       [[[4, 4],\n",
       "         [4, 4]],\n",
       "\n",
       "        [[3, 3],\n",
       "         [3, 3]]]])"
      ]
     },
     "execution_count": 112,
     "metadata": {},
     "output_type": "execute_result"
    }
   ],
   "source": [
    "c"
   ]
  },
  {
   "cell_type": "code",
   "execution_count": 122,
   "metadata": {},
   "outputs": [],
   "source": [
    "na = a.shape[0]\n",
    "nb = b.shape[0]\n",
    "result = np.einsum('ij,kl->ikjl',b,a).reshape(-1, na * nb)"
   ]
  },
  {
   "cell_type": "code",
   "execution_count": 123,
   "metadata": {},
   "outputs": [
    {
     "data": {
      "text/plain": [
       "array([[1., 2., 0., 0., 0., 0., 0., 0., 0., 0., 0., 0., 0., 0., 0., 0.,\n",
       "        0., 0., 0., 0.],\n",
       "       [3., 2., 0., 0., 0., 0., 0., 0., 0., 0., 0., 0., 0., 0., 0., 0.,\n",
       "        0., 0., 0., 0.],\n",
       "       [0., 0., 1., 2., 0., 0., 0., 0., 0., 0., 0., 0., 0., 0., 0., 0.,\n",
       "        0., 0., 0., 0.],\n",
       "       [0., 0., 3., 2., 0., 0., 0., 0., 0., 0., 0., 0., 0., 0., 0., 0.,\n",
       "        0., 0., 0., 0.],\n",
       "       [0., 0., 0., 0., 1., 2., 0., 0., 0., 0., 0., 0., 0., 0., 0., 0.,\n",
       "        0., 0., 0., 0.],\n",
       "       [0., 0., 0., 0., 3., 2., 0., 0., 0., 0., 0., 0., 0., 0., 0., 0.,\n",
       "        0., 0., 0., 0.],\n",
       "       [0., 0., 0., 0., 0., 0., 1., 2., 0., 0., 0., 0., 0., 0., 0., 0.,\n",
       "        0., 0., 0., 0.],\n",
       "       [0., 0., 0., 0., 0., 0., 3., 2., 0., 0., 0., 0., 0., 0., 0., 0.,\n",
       "        0., 0., 0., 0.],\n",
       "       [0., 0., 0., 0., 0., 0., 0., 0., 1., 2., 0., 0., 0., 0., 0., 0.,\n",
       "        0., 0., 0., 0.],\n",
       "       [0., 0., 0., 0., 0., 0., 0., 0., 3., 2., 0., 0., 0., 0., 0., 0.,\n",
       "        0., 0., 0., 0.],\n",
       "       [0., 0., 0., 0., 0., 0., 0., 0., 0., 0., 1., 2., 0., 0., 0., 0.,\n",
       "        0., 0., 0., 0.],\n",
       "       [0., 0., 0., 0., 0., 0., 0., 0., 0., 0., 3., 2., 0., 0., 0., 0.,\n",
       "        0., 0., 0., 0.],\n",
       "       [0., 0., 0., 0., 0., 0., 0., 0., 0., 0., 0., 0., 1., 2., 0., 0.,\n",
       "        0., 0., 0., 0.],\n",
       "       [0., 0., 0., 0., 0., 0., 0., 0., 0., 0., 0., 0., 3., 2., 0., 0.,\n",
       "        0., 0., 0., 0.],\n",
       "       [0., 0., 0., 0., 0., 0., 0., 0., 0., 0., 0., 0., 0., 0., 1., 2.,\n",
       "        0., 0., 0., 0.],\n",
       "       [0., 0., 0., 0., 0., 0., 0., 0., 0., 0., 0., 0., 0., 0., 3., 2.,\n",
       "        0., 0., 0., 0.],\n",
       "       [0., 0., 0., 0., 0., 0., 0., 0., 0., 0., 0., 0., 0., 0., 0., 0.,\n",
       "        1., 2., 0., 0.],\n",
       "       [0., 0., 0., 0., 0., 0., 0., 0., 0., 0., 0., 0., 0., 0., 0., 0.,\n",
       "        3., 2., 0., 0.],\n",
       "       [0., 0., 0., 0., 0., 0., 0., 0., 0., 0., 0., 0., 0., 0., 0., 0.,\n",
       "        0., 0., 1., 2.],\n",
       "       [0., 0., 0., 0., 0., 0., 0., 0., 0., 0., 0., 0., 0., 0., 0., 0.,\n",
       "        0., 0., 3., 2.]])"
      ]
     },
     "execution_count": 123,
     "metadata": {},
     "output_type": "execute_result"
    }
   ],
   "source": [
    "result"
   ]
  },
  {
   "cell_type": "code",
   "execution_count": 124,
   "metadata": {},
   "outputs": [
    {
     "data": {
      "text/plain": [
       "array([[1, 2, 0, 0],\n",
       "       [3, 4, 0, 0],\n",
       "       [0, 0, 5, 6],\n",
       "       [0, 0, 7, 8]])"
      ]
     },
     "execution_count": 124,
     "metadata": {},
     "output_type": "execute_result"
    }
   ],
   "source": [
    "import numpy as np\n",
    "from scipy.linalg import block_diag\n",
    "\n",
    "A = np.array([[1, 2], \n",
    "              [3, 4]])    \n",
    "B = np.array([[5, 6], \n",
    "              [7, 8]])\n",
    "block_diag(A,B)\n"
   ]
  },
  {
   "cell_type": "code",
   "execution_count": 125,
   "metadata": {},
   "outputs": [
    {
     "data": {
      "text/plain": [
       "array([[1, 2, 0, 0, 0, 0],\n",
       "       [3, 4, 0, 0, 0, 0],\n",
       "       [0, 0, 5, 6, 0, 0],\n",
       "       [0, 0, 7, 8, 0, 0],\n",
       "       [0, 0, 0, 0, 1, 2],\n",
       "       [0, 0, 0, 0, 3, 4]])"
      ]
     },
     "execution_count": 125,
     "metadata": {},
     "output_type": "execute_result"
    }
   ],
   "source": [
    "block_diag(A,B,A)"
   ]
  },
  {
   "cell_type": "code",
   "execution_count": 126,
   "metadata": {},
   "outputs": [
    {
     "data": {
      "text/plain": [
       "array([[1, 2, 0, 0, 0, 0],\n",
       "       [3, 4, 0, 0, 0, 0],\n",
       "       [0, 0, 5, 6, 0, 0],\n",
       "       [0, 0, 7, 8, 0, 0],\n",
       "       [0, 0, 0, 0, 1, 2],\n",
       "       [0, 0, 0, 0, 3, 4]])"
      ]
     },
     "execution_count": 126,
     "metadata": {},
     "output_type": "execute_result"
    }
   ],
   "source": [
    "list = [A,B,A]\n",
    "block_diag(*list)"
   ]
  },
  {
   "cell_type": "code",
   "execution_count": 1,
   "metadata": {},
   "outputs": [],
   "source": [
    "import numpy as np\n",
    "from scipy.linalg import block_diag\n",
    "\n",
    "t = 2.7 # eV hopping between monolayer neighbours\n",
    "t_layers = 0.4 # eV hopping between A and B atoms in AB bilayer\n",
    "hbarv = 0.5*np.sqrt(3)*2.46*t\n",
    "a0 = 1.42 # angstrom-1\n",
    "\n",
    "def NearNeighbSum(kx,ky):\n",
    "\treturn 2*np.exp(0.5*1.j*kx*a0)*np.cos(0.5*ky*a0*np.sqrt(3))+np.exp(-1.j*kx*a0)\n",
    "\n",
    "a = 2.46 # angstrom\n",
    "k = 2*np.pi/a # inverse angstrom\n",
    "kstep0 = 0.001\n",
    "kstep = kstep0*k \n",
    "N = 10 \n",
    "\n",
    "Kx = 0\n",
    "Ky = -2/3*k # Dirac point coordinates\n",
    "blocks = []\n",
    "\n",
    "def Hamiltonian(N, kx, ky):\n",
    "\n",
    "\tS = NearNeighbSum(kx,ky)\n",
    "\tblock1 = np.zeros((2,2), dtype='complex')\n",
    "\tblock1[0][0] = block1[1][1] = 0\n",
    "\tblock1[1][0] = t*np.conj(S)\n",
    "\tblock1[0][1] = t*S\n",
    "\tblock2 = np.conj(block1)\n",
    "\tham = block_diag(block1, block2)\n",
    "\t\"\"\"\n",
    "\tsigma_x = np.matrix([[0,1],[1,0]])\n",
    "\toff_diag = np.matrix([[t_layers,0],[0,0]])\n",
    "\tham += np.kron(sigma_x, off_diag)\n",
    "\t\"\"\"\n",
    "\treturn ham\n",
    "\n",
    "\n",
    "\n",
    "\"\"\"\n",
    "eigenenergies = []\n",
    "eigenfunctions = []\n",
    "\"\"\"\n",
    "\n",
    "for i in np.arange(-N,N+1): # -N ... 0 ... N\n",
    "\tfor j in np.arange(-N,N+1):\n",
    "\t\tham_mono = Hamiltonian(N, Kx+i*kstep, Ky+j*kstep)\n",
    "\t\tblocks.append(ham_mono)\n",
    "\"\"\"\n",
    "\t\teigenvalues, eigenvectors = np.linalg.eigh(ham_mono)\n",
    "\t\teigenenergies.append(eigenvalues)\n",
    "\t\teigenfunctions.extend(eigenvectors)\n",
    "\"\"\"\n",
    "\n",
    "\"\"\"\n",
    "real_eigenenergies = np.real(eigenenergies)\n",
    "\"\"\"\n",
    "\n",
    "hamiltonian = block_diag(*blocks)"
   ]
  },
  {
   "cell_type": "code",
   "execution_count": 2,
   "metadata": {},
   "outputs": [
    {
     "data": {
      "text/plain": [
       "(1764, 1764)"
      ]
     },
     "execution_count": 2,
     "metadata": {},
     "output_type": "execute_result"
    }
   ],
   "source": [
    "hamiltonian.shape"
   ]
  },
  {
   "cell_type": "code",
   "execution_count": 3,
   "metadata": {},
   "outputs": [
    {
     "data": {
      "text/plain": [
       "0j"
      ]
     },
     "execution_count": 3,
     "metadata": {},
     "output_type": "execute_result"
    }
   ],
   "source": [
    "hamiltonian[0][0]"
   ]
  },
  {
   "cell_type": "code",
   "execution_count": 4,
   "metadata": {},
   "outputs": [
    {
     "data": {
      "text/plain": [
       "(1764,)"
      ]
     },
     "execution_count": 4,
     "metadata": {},
     "output_type": "execute_result"
    }
   ],
   "source": [
    "hamiltonian[0].shape"
   ]
  },
  {
   "cell_type": "code",
   "execution_count": 5,
   "metadata": {},
   "outputs": [
    {
     "data": {
      "text/plain": [
       "array([ 0.        +0.j        , -0.14493431+0.14946889j,\n",
       "        0.        +0.j        , ...,  0.        +0.j        ,\n",
       "        0.        +0.j        ,  0.        +0.j        ])"
      ]
     },
     "execution_count": 5,
     "metadata": {},
     "output_type": "execute_result"
    }
   ],
   "source": [
    "hamiltonian[0]"
   ]
  },
  {
   "cell_type": "code",
   "execution_count": 6,
   "metadata": {},
   "outputs": [
    {
     "data": {
      "text/plain": [
       "1764"
      ]
     },
     "execution_count": 6,
     "metadata": {},
     "output_type": "execute_result"
    }
   ],
   "source": [
    "np.count_nonzero(hamiltonian)"
   ]
  },
  {
   "cell_type": "code",
   "execution_count": 7,
   "metadata": {},
   "outputs": [
    {
     "name": "stdout",
     "output_type": "stream",
     "text": [
      "0.5410060882568359\n"
     ]
    }
   ],
   "source": [
    "import time\n",
    "\n",
    "start = time.time()\n",
    "eigenenergies, eigenfunctions = np.linalg.eigh(hamiltonian)\n",
    "real_eigenenergies = np.real(eigenenergies)\n",
    "end = time.time()\n",
    "print(end - start)"
   ]
  },
  {
   "cell_type": "code",
   "execution_count": null,
   "metadata": {},
   "outputs": [],
   "source": [
    "import matplotlib.pyplot as plt\n",
    "\n",
    "plt.figure(figsize=(8,8))\n",
    "plt.imshow(arr)\n",
    "plt.show()"
   ]
  },
  {
   "cell_type": "code",
   "execution_count": 8,
   "metadata": {},
   "outputs": [],
   "source": [
    "x = np.linspace(-10, 10, 491)\n",
    "y = np.linspace(-10, 10, 491)\n",
    "x, y = np.meshgrid(x, y)\n",
    "x_0 = -3\n",
    "y_0 = -6\n",
    "mask = np.sqrt((x-x_0)**2+(y-y_0)**2)"
   ]
  },
  {
   "cell_type": "code",
   "execution_count": 11,
   "metadata": {},
   "outputs": [
    {
     "data": {
      "image/png": "[encoded data removed]",
      "text/plain": [
       "<Figure size 432x288 with 1 Axes>"
      ]
     },
     "metadata": {
      "needs_background": "light"
     },
     "output_type": "display_data"
    }
   ],
   "source": [
    "import matplotlib.pyplot as plt\n",
    "maskimg = plt.imshow(mask,cmap=\"gray\")\n",
    "plt.show()"
   ]
  },
  {
   "cell_type": "code",
   "execution_count": 26,
   "metadata": {},
   "outputs": [],
   "source": [
    "import numpy as np\n",
    "from skimage.draw import disk\n",
    "shape = (100, 100)\n",
    "img = np.zeros(shape, dtype=np.uint8)\n",
    "rr, cc = disk((5, 5), 5, shape=shape)\n",
    "img[rr, cc] = 1"
   ]
  },
  {
   "cell_type": "code",
   "execution_count": 27,
   "metadata": {},
   "outputs": [
    {
     "data": {
      "text/plain": [
       "array([[0, 0, 0, ..., 0, 0, 0],\n",
       "       [0, 0, 0, ..., 0, 0, 0],\n",
       "       [0, 0, 1, ..., 0, 0, 0],\n",
       "       ...,\n",
       "       [0, 0, 0, ..., 0, 0, 0],\n",
       "       [0, 0, 0, ..., 0, 0, 0],\n",
       "       [0, 0, 0, ..., 0, 0, 0]], dtype=uint8)"
      ]
     },
     "execution_count": 27,
     "metadata": {},
     "output_type": "execute_result"
    }
   ],
   "source": [
    "img"
   ]
  },
  {
   "cell_type": "code",
   "execution_count": 32,
   "metadata": {},
   "outputs": [
    {
     "ename": "ValueError",
     "evalue": "too many values to unpack (expected 2)",
     "output_type": "error",
     "traceback": [
      "\u001b[0;31m---------------------------------------------------------------------------\u001b[0m",
      "\u001b[0;31mValueError\u001b[0m                                Traceback (most recent call last)",
      "\u001b[0;32m<ipython-input-32-fae0742b467d>\u001b[0m in \u001b[0;36m<module>\u001b[0;34m\u001b[0m\n\u001b[1;32m      1\u001b[0m \u001b[0msum\u001b[0m \u001b[0;34m=\u001b[0m \u001b[0;36m0\u001b[0m\u001b[0;34m\u001b[0m\u001b[0;34m\u001b[0m\u001b[0m\n\u001b[0;32m----> 2\u001b[0;31m \u001b[0;32mfor\u001b[0m \u001b[0mx\u001b[0m\u001b[0;34m,\u001b[0m\u001b[0my\u001b[0m \u001b[0;32min\u001b[0m \u001b[0mimg\u001b[0m\u001b[0;34m:\u001b[0m\u001b[0;34m\u001b[0m\u001b[0;34m\u001b[0m\u001b[0m\n\u001b[0m\u001b[1;32m      3\u001b[0m     \u001b[0msum\u001b[0m\u001b[0;34m+=\u001b[0m\u001b[0;36m1\u001b[0m\u001b[0;34m\u001b[0m\u001b[0;34m\u001b[0m\u001b[0m\n",
      "\u001b[0;31mValueError\u001b[0m: too many values to unpack (expected 2)"
     ]
    }
   ],
   "source": [
    "sum = 0\n",
    "for x,y in img:\n",
    "    sum+=1"
   ]
  },
  {
   "cell_type": "code",
   "execution_count": 31,
   "metadata": {},
   "outputs": [
    {
     "data": {
      "text/plain": [
       "2"
      ]
     },
     "execution_count": 31,
     "metadata": {},
     "output_type": "execute_result"
    }
   ],
   "source": [
    "sum"
   ]
  },
  {
   "cell_type": "code",
   "execution_count": 33,
   "metadata": {},
   "outputs": [],
   "source": [
    "def occup_0K(vals, spin=1):\n",
    "    \"\"\"\n",
    "    for graphene system, one pz orbital contribute one electron\n",
    "    \"\"\"\n",
    "    if vals[0]==0:\n",
    "        result = np.where(vals==0, 1, vals)\n",
    "        return result\n",
    "    else:\n",
    "        result1 = np.where(vals>0, 0, vals)\n",
    "        result2 = np.where(result1<0, 2 ,result1)\n",
    "        return result2"
   ]
  },
  {
   "cell_type": "code",
   "execution_count": 36,
   "metadata": {},
   "outputs": [],
   "source": [
    "\n",
    "energies = np.array([-5,2,2,1])\n",
    "occup = occup_0K(energies)"
   ]
  },
  {
   "cell_type": "code",
   "execution_count": 37,
   "metadata": {},
   "outputs": [
    {
     "data": {
      "text/plain": [
       "array([2, 0, 0, 0])"
      ]
     },
     "execution_count": 37,
     "metadata": {},
     "output_type": "execute_result"
    }
   ],
   "source": [
    "occup"
   ]
  },
  {
   "cell_type": "code",
   "execution_count": 38,
   "metadata": {},
   "outputs": [],
   "source": [
    "def pick_up_transition_pairs(vals, omega, e_win, occup):\n",
    "    omega_minus = max(omega-e_win, 1.e-6)\n",
    "    omega_plus = omega + e_win\n",
    "    inds_ef = np.intersect1d(np.where(occup>0)[0], np.where(occup<2)[0])\n",
    "    if len(inds_ef):\n",
    "        ind_vbm = max(inds_ef)\n",
    "        ind_cbm = min(inds_ef)\n",
    "    else:\n",
    "        ind_vbm = max(np.where(occup==2)[0])\n",
    "        ind_cbm = min(np.where(occup==0)[0])\n",
    "    vbm = vals[ind_vbm]\n",
    "    cbm = vals[ind_cbm]\n",
    "    e_bott = cbm - omega - e_win\n",
    "    e_top = vbm + omega + e_win\n",
    "    inds_shot = np.intersect1d(np.where(vals>=e_bott), np.where(vals<=e_top))\n",
    "    if len(inds_shot):\n",
    "        inds_vb = np.arange(ind_vbm, inds_shot[0]-1, -1)\n",
    "        inds_cb = np.arange(ind_cbm, inds_shot[-1]+1)\n",
    "    else:\n",
    "        inds_vb = []\n",
    "        inds_cb = []\n",
    "    def add_pair(ind_vb):\n",
    "        e0 = vals[ind_vb]\n",
    "        des = vals - e0\n",
    "        inds_chosen = np.intersect1d(np.where(des>=omega_minus)[0], np.where(des<=omega_plus)[0])\n",
    "        inds_chosen = np.intersect1d(inds_chosen, inds_cb)\n",
    "        pairs_chosen = [[ind_vb, indi] for indi in inds_chosen]\n",
    "        return pairs_chosen\n",
    "    pairs = [add_pair(ind_vb) for ind_vb in inds_vb]\n",
    "    pairs = [i for i in pairs if len(i)]\n",
    "    if len(pairs):\n",
    "        return np.concatenate(pairs)\n",
    "    else:\n",
    "        return []"
   ]
  },
  {
   "cell_type": "code",
   "execution_count": 52,
   "metadata": {},
   "outputs": [
    {
     "name": "stdout",
     "output_type": "stream",
     "text": [
      "[]\n",
      "[]\n",
      "[]\n",
      "[]\n",
      "[]\n",
      "[]\n",
      "[]\n",
      "[]\n",
      "[[0 1]]\n",
      "[[0 1]]\n",
      "[[0 1]]\n",
      "[[0 1]]\n",
      "[[0 1]]\n",
      "[[0 1]]\n",
      "[]\n",
      "[]\n",
      "[]\n",
      "[]\n",
      "[]\n",
      "[]\n",
      "[]\n",
      "[]\n",
      "[]\n",
      "[]\n",
      "[]\n",
      "[]\n",
      "[]\n",
      "[]\n",
      "[]\n",
      "[]\n",
      "[]\n",
      "[]\n",
      "[]\n",
      "[]\n",
      "[]\n",
      "[]\n",
      "[]\n",
      "[]\n",
      "[]\n",
      "[]\n",
      "[]\n",
      "[]\n",
      "[]\n",
      "[]\n",
      "[]\n",
      "[]\n",
      "[]\n",
      "[]\n",
      "[]\n",
      "[]\n",
      "[]\n",
      "[]\n",
      "[]\n",
      "[]\n",
      "[]\n",
      "[]\n",
      "[]\n",
      "[]\n",
      "[]\n",
      "[]\n",
      "[]\n",
      "[]\n",
      "[]\n",
      "[]\n",
      "[]\n",
      "[]\n",
      "[]\n",
      "[]\n",
      "[]\n",
      "[]\n"
     ]
    }
   ],
   "source": [
    "\n",
    "energies = np.array([-5-2,2,1])\n",
    "occup = occup_0K(energies)\n",
    "e_win = 0.3\n",
    "for omega in np.arange(8,15,0.1):\n",
    "    print(pick_up_transition_pairs(energies, omega, e_win, occup))"
   ]
  },
  {
   "cell_type": "code",
   "execution_count": 47,
   "metadata": {},
   "outputs": [
    {
     "data": {
      "text/plain": [
       "array([0. , 0.1, 0.2, 0.3, 0.4, 0.5, 0.6, 0.7, 0.8, 0.9, 1. , 1.1, 1.2,\n",
       "       1.3, 1.4, 1.5, 1.6, 1.7, 1.8, 1.9, 2. , 2.1, 2.2, 2.3, 2.4, 2.5,\n",
       "       2.6, 2.7, 2.8, 2.9])"
      ]
     },
     "execution_count": 47,
     "metadata": {},
     "output_type": "execute_result"
    }
   ],
   "source": [
    "np.arange(0,3,0.1)"
   ]
  },
  {
   "cell_type": "code",
   "execution_count": 55,
   "metadata": {},
   "outputs": [
    {
     "name": "stdout",
     "output_type": "stream",
     "text": [
      "[0, 2]\n",
      "[0, 3]\n",
      "[1, 2]\n",
      "[1, 3]\n"
     ]
    }
   ],
   "source": [
    "for i in [0,1]:\n",
    "    for j in [2,3]:\n",
    "        print([i,j])"
   ]
  },
  {
   "cell_type": "code",
   "execution_count": 88,
   "metadata": {},
   "outputs": [],
   "source": [
    "def pick_up_transition_pairs(vals, omega, e_win, occup):\n",
    "    pairs = []\n",
    "    for i in [0,1]:\n",
    "        for j in [2,3]:\n",
    "            if np.abs(vals[j]-vals[i]-omega)<e_win:\n",
    "                pairs.append([i,j])\n",
    "    return pairs"
   ]
  },
  {
   "cell_type": "code",
   "execution_count": 89,
   "metadata": {},
   "outputs": [
    {
     "name": "stdout",
     "output_type": "stream",
     "text": [
      "[[1, 2]]\n",
      "[[1, 2]]\n",
      "[[1, 2]]\n",
      "[[1, 2]]\n",
      "[]\n",
      "[]\n",
      "[]\n",
      "[]\n",
      "[]\n",
      "[]\n",
      "[]\n",
      "[]\n",
      "[]\n",
      "[]\n",
      "[]\n"
     ]
    }
   ],
   "source": [
    "\n",
    "energies = np.array([-5,-2,2,1])\n",
    "occup = occup_0K(energies)\n",
    "e_win = 0.3\n",
    "for omega in np.arange(4,5.5,0.1):\n",
    "    print(pick_up_transition_pairs(energies, omega, e_win, occup))"
   ]
  },
  {
   "cell_type": "code",
   "execution_count": 77,
   "metadata": {},
   "outputs": [
    {
     "data": {
      "text/plain": [
       "-5"
      ]
     },
     "execution_count": 77,
     "metadata": {},
     "output_type": "execute_result"
    }
   ],
   "source": [
    "energies[0]"
   ]
  },
  {
   "cell_type": "code",
   "execution_count": 78,
   "metadata": {},
   "outputs": [
    {
     "data": {
      "text/plain": [
       "2"
      ]
     },
     "execution_count": 78,
     "metadata": {},
     "output_type": "execute_result"
    }
   ],
   "source": [
    "energies[2]"
   ]
  },
  {
   "cell_type": "code",
   "execution_count": null,
   "metadata": {},
   "outputs": [],
   "source": []
  }
 ],
 "metadata": {
  "kernelspec": {
   "display_name": "Python 3",
   "language": "python",
   "name": "python3"
  },
  "language_info": {
   "codemirror_mode": {
    "name": "ipython",
    "version": 3
   },
   "file_extension": ".py",
   "mimetype": "text/x-python",
   "name": "python",
   "nbconvert_exporter": "python",
   "pygments_lexer": "ipython3",
   "version": "3.8.5"
  }
 },
 "nbformat": 4,
 "nbformat_minor": 4
}
