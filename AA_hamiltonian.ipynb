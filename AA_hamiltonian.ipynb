{
 "cells": [
  {
   "cell_type": "code",
   "execution_count": 2,
   "metadata": {},
   "outputs": [],
   "source": [
    "import numpy as np\n",
    "import matplotlib.pyplot as plt\n",
    "import numpy as np\n",
    "from scipy.sparse.linalg import eigsh\n",
    "import scipy as sps\n",
    "import csv\n",
    "#import pylab as plt\n",
    "#import qutip as qt"
   ]
  },
  {
   "cell_type": "code",
   "execution_count": 66,
   "metadata": {},
   "outputs": [],
   "source": [
    "omega  = 110.7          #mev\n",
    "d      = 1.420          #angstrom, whatever is ok.\n",
    "hv     = 1.5*d*2970     #meV*angstrom, Fermi velocity for SLG\n",
    "N      = 5              #truncate range\n",
    "valley = 1             #+1 for K, -1 for K'\n",
    "KDens  = 100            #density of k points, 100 is good.\n",
    "\n",
    "#tune parameters\n",
    "\n",
    "I      = complex(0, 1)\n",
    "ei120  = np.cos(2*np.pi/3) + valley*I*np.sin(2*np.pi/3)\n",
    "ei240  = np.cos(2*np.pi/3) - valley*I*np.sin(2*np.pi/3)\n",
    "\n",
    "\n",
    "\n",
    "\n",
    "\n",
    "\n",
    "Tqb    = omega*np.array([[1,1], [1,1]], dtype=complex)\n",
    "Tqtr   = omega*np.array([[1, ei120], [ei240, 1]], dtype=complex)\n",
    "Tqtl   = omega*np.array([[1, ei240], [ei120, 1]], dtype=complex)\n",
    "TqbD   = np.array(np.matrix(Tqb).H)\n",
    "TqtrD  = np.array(np.matrix(Tqtr).H)\n",
    "TqtlD  = np.array(np.matrix(Tqtl).H)\n",
    "\n",
    "#define Lattice\n",
    "L = []\n",
    "invL = np.zeros((2*N+1, 2*N+1), int)\n",
    "\n",
    "def Lattice(n):\n",
    "    count = 0\n",
    "    for i in np.arange(-n, n+1):\n",
    "        for j in np.arange(-n, n+1):\n",
    "            L.append([i, j])\n",
    "            invL[i+n, j+n] = count\n",
    "            count = count + 1\n",
    "    for i in np.arange(-n, n+1):\n",
    "        for j in np.arange(-n, n+1):\n",
    "            L.append([i, j])\n",
    "\n",
    "Lattice(N)\n",
    "siteN = (2*N+1)*(2*N+1)\n",
    "L = np.array(L)\n",
    "\n",
    "levels = 25"
   ]
  },
  {
   "cell_type": "code",
   "execution_count": 67,
   "metadata": {},
   "outputs": [],
   "source": [
    "def Hamiltonian(kx, ky, theta):\n",
    "    \n",
    "    theta  = theta/180.0*np.pi \n",
    "    b1m    = 8*np.pi*np.sin(theta/2)/3/d*np.array([0.5, -np.sqrt(3)/2])\n",
    "    b2m    = 8*np.pi*np.sin(theta/2)/3/d*np.array([0.5, np.sqrt(3)/2])\n",
    "    qb     = 8*np.pi*np.sin(theta/2)/3/np.sqrt(3)/d*np.array([0, -1])\n",
    "    K1     = 8*np.pi*np.sin(theta/2)/3/np.sqrt(3)/d*np.array([-np.sqrt(3)/2,-0.5])\n",
    "    K2     = 8*np.pi*np.sin(theta/2)/3/np.sqrt(3)/d*np.array([-np.sqrt(3)/2,0.5])\n",
    "    H = np.array(np.zeros((4*siteN, 4*siteN)), dtype=complex)\n",
    "    \n",
    "    for i in np.arange(siteN):\n",
    "        #diagonal term\n",
    "        ix = L[i, 0]\n",
    "        iy = L[i, 1]\n",
    "        ax = kx - valley*K1[0] + ix*b1m[0] + iy*b2m[0]\n",
    "        ay = ky - valley*K1[1] + ix*b1m[1] + iy*b2m[1]\n",
    "\n",
    "        qx = np.cos(theta/2) * ax + np.sin(theta/2) * ay\n",
    "        qy =-np.sin(theta/2) * ax + np.cos(theta/2) * ay\n",
    "         \n",
    "        H[2*i, 2*i+1] = hv * (valley*qx - I*qy)\n",
    "        H[2*i+1, 2*i] = hv * (valley*qx + I*qy)\n",
    "\n",
    "        #off-diagonal term\n",
    "        j = i + siteN\n",
    "        H[2*j, 2*i]     = TqbD[0, 0]\n",
    "        H[2*j, 2*i+1]   = TqbD[0, 1]\n",
    "        H[2*j+1, 2*i]   = TqbD[1, 0]\n",
    "        H[2*j+1, 2*i+1] = TqbD[1, 1]\n",
    "        if (iy != valley*N and ix != valley*N):\n",
    "            j = invL[ix+1+N, iy+valley*1+N] + siteN\n",
    "            H[2*j, 2*i]     = TqtrD[0, 0]\n",
    "            H[2*j, 2*i+1]   = TqtrD[0, 1]\n",
    "            H[2*j+1, 2*i]   = TqtrD[1, 0]\n",
    "            H[2*j+1, 2*i+1] = TqtrD[1, 1]\n",
    "        if (ix != valley*N):\n",
    "            j = invL[ix+valley*1+N, iy+N] + siteN\n",
    "            H[2*j, 2*i]     = TqtlD[0, 0]\n",
    "            H[2*j, 2*i+1]   = TqtlD[0, 1]\n",
    "            H[2*j+1, 2*i]   = TqtlD[1, 0]\n",
    "            H[2*j+1, 2*i+1] = TqtlD[1, 1]\n",
    "        \n",
    "\n",
    "    for i in np.arange(siteN, 2*siteN):\n",
    "        #diagnoal term\n",
    "        j = i - siteN\n",
    "        ix = L[j, 0]\n",
    "        iy = L[j, 1]\n",
    "        ax = kx  - valley*K2[0] + ix*b1m[0] + iy*b2m[0] \n",
    "        ay = ky  - valley*K2[1] + ix*b1m[1] + iy*b2m[1]\n",
    "\n",
    "        qx = np.cos(theta/2) * ax - np.sin(theta/2) * ay\n",
    "        qy = np.sin(theta/2) * ax + np.cos(theta/2) * ay\n",
    "\n",
    "        H[2*i, 2*i+1] = hv * (valley*qx - I*qy)\n",
    "        H[2*i+1, 2*i] = hv * (valley*qx + I*qy)\n",
    "\n",
    "        #off-diagonal term\n",
    "        H[2*j, 2*i]     = Tqb[0, 0]\n",
    "        H[2*j, 2*i+1]   = Tqb[0, 1]\n",
    "        H[2*j+1, 2*i]   = Tqb[1, 0]\n",
    "        H[2*j+1, 2*i+1] = Tqb[1, 1]\n",
    "        if (iy != (-valley*N) and ix != (-valley*N)):\n",
    "            j = invL[ix-1+N, iy-valley*1+N]\n",
    "            H[2*j, 2*i]     = Tqtr[0, 0]\n",
    "            H[2*j, 2*i+1]   = Tqtr[0, 1]\n",
    "            H[2*j+1, 2*i]   = Tqtr[1, 0]\n",
    "            H[2*j+1, 2*i+1] = Tqtr[1, 1]\n",
    "        if (ix != -valley*N):\n",
    "            j = invL[ix-valley*1+N, iy+N]\n",
    "            H[2*j, 2*i]     = Tqtl[0, 0]\n",
    "            H[2*j, 2*i+1]   = Tqtl[0, 1]\n",
    "            H[2*j+1, 2*i]   = Tqtl[1, 0]\n",
    "            H[2*j+1, 2*i+1] = Tqtl[1, 1]\n",
    "\n",
    "\n",
    "    eigensystem = sps.sparse.linalg.eigsh(H, k = levels, which = \"SM\")\n",
    "    \n",
    "    return eigensystem"
   ]
  },
  {
   "cell_type": "code",
   "execution_count": 46,
   "metadata": {
    "scrolled": true
   },
   "outputs": [
    {
     "data": {
      "text/plain": [
       "array([-2528.2010047 , -2321.98380826, -2312.6771747 , -2127.57266655,\n",
       "       -2108.81880716, -2078.10057181, -2012.93094118, -1903.29736962,\n",
       "       -1699.57832452, -1658.55044952, -1483.56530928, -1246.62312204,\n",
       "       -1220.65723811, -1200.47331705, -1164.75520169,  -588.85617106,\n",
       "        -375.66365371,   368.69343776,   599.33869963,  1166.65248802,\n",
       "        1198.86188699,  1220.92237039,  1247.12931045,  1479.16967336,\n",
       "        1659.99098918,  1702.79751978,  1903.10297052,  2012.30057036,\n",
       "        2077.82738844,  2111.65787056,  2126.32565148,  2313.40217065,\n",
       "        2321.65460039,  2526.06066719,  2538.76990885])"
      ]
     },
     "execution_count": 46,
     "metadata": {},
     "output_type": "execute_result"
    }
   ],
   "source": [
    "theta = 5*np.pi/180\n",
    "kD = 8*np.pi*np.sin(theta/2)/3/np.sqrt(3)/d\n",
    "eig_vec = Hamiltonian(0.5*np.sqrt(3)*kD,0,5)\n",
    "sorted_eig_ens = np.sort(eig_vec[0])\n",
    "sorted_eig_vec = []\n",
    "argsort = eig_vec[0].argsort(axis=None)\n",
    "for i in np.arange(levels):\n",
    "    sorted_eig_vec.append(eig_vec[1][:,np.where(argsort==i)])\n",
    "sorted_eig_vec = np.array(sorted_eig_vec)\n",
    "sorted_eig_vec = np.squeeze(sorted_eig_vec)\n",
    "sorted_eig_ens"
   ]
  },
  {
   "cell_type": "code",
   "execution_count": 84,
   "metadata": {},
   "outputs": [
    {
     "data": {
      "text/plain": [
       "array([-2528.2010047 , -2321.98380826, -2312.6771747 , -2127.57266655,\n",
       "       -2108.81880716, -2078.10057181, -2012.93094118, -1903.29736962,\n",
       "       -1699.57832452, -1658.55044952, -1483.56530928, -1246.62312204,\n",
       "       -1220.65723811, -1200.47331705, -1164.75520169,  -588.85617106,\n",
       "        -375.66365371,   368.69343776,   599.33869963,  1166.65248802,\n",
       "        1198.86188699,  1220.92237039,  1247.12931045,  1479.16967336,\n",
       "        1659.99098918,  1702.79751978,  1903.10297052,  2012.30057036,\n",
       "        2077.82738844,  2111.65787056,  2126.32565148,  2313.40217065,\n",
       "        2321.65460039,  2526.06066719,  2538.76990885])"
      ]
     },
     "execution_count": 84,
     "metadata": {},
     "output_type": "execute_result"
    }
   ],
   "source": [
    "sorted_eig_ens"
   ]
  },
  {
   "cell_type": "code",
   "execution_count": 89,
   "metadata": {},
   "outputs": [
    {
     "data": {
      "text/plain": [
       "(484,)"
      ]
     },
     "execution_count": 89,
     "metadata": {},
     "output_type": "execute_result"
    }
   ],
   "source": [
    "sorted_eig_vec[1].shape"
   ]
  },
  {
   "cell_type": "code",
   "execution_count": 68,
   "metadata": {},
   "outputs": [],
   "source": [
    "sigma = np.array(np.zeros((4*siteN, 4*siteN)), dtype=complex)\n",
    "\n",
    "for i in np.arange(2*siteN):\n",
    "        sigma[2*i, 2*i+1] = 1\n",
    "        sigma[2*i+1, 2*i] = 1\n",
    "        \n",
    "f = np.array(np.zeros((levels), dtype=int))\n",
    "\n",
    "for i in np.arange(int(levels/2)):\n",
    "    f[i] = 1\n",
    "    \n",
    "eta = 3 # broadening of resonances in meV"
   ]
  },
  {
   "cell_type": "code",
   "execution_count": 72,
   "metadata": {},
   "outputs": [],
   "source": [
    "def DinamCond(theta, en):\n",
    "    \n",
    "    # returns sigma_xx/sigma_mono following Moon Koshino (2013)\n",
    "    # the output has dimensions 1/angstrom^2. all energies are treated in meV.\n",
    "    \n",
    "#    eig_vec = Hamiltonian(0,0,theta)\n",
    "    eig_vec = Hamiltonian(0.5*np.sqrt(3)*kD,0,theta)\n",
    "    sorted_eig_ens = np.sort(eig_vec[0])\n",
    "    sorted_eig_vec = []\n",
    "    argsort = eig_vec[0].argsort(axis=None)\n",
    "    for i in np.arange(levels):\n",
    "        sorted_eig_vec.append(eig_vec[1][:,np.where(argsort==i)])\n",
    "    sorted_eig_vec = np.array(sorted_eig_vec)\n",
    "    sorted_eig_vec = np.squeeze(sorted_eig_vec)\n",
    "    \n",
    "    S = d**2*0.5*np.sqrt(3)*0.25*(1/np.sin(0.5*theta*np.pi/180))**2\n",
    "    \n",
    "#    sigma_xx = 0\n",
    "    Resigma_xx = 0\n",
    "    Imsigma_xx = 0\n",
    "    \n",
    "    for i in np.arange(levels):\n",
    "        for j in np.arange(levels):\n",
    "                if i!=j:\n",
    "                    matrix_element = np.abs(np.dot(sorted_eig_vec[i], np.matmul(sigma, sorted_eig_vec[j])))\n",
    "                    Ei = sorted_eig_ens[i]\n",
    "                    Ej = sorted_eig_ens[j]\n",
    "#                    sigma_xx += (f[i]-f[j])*(4/en)*hv**2*matrix_element**2/(Ei-Ej+en+1.j*eta)\n",
    "#                    Resigma_xx += (f[i]-f[j])*(4/en)*hv**2*matrix_element**2*(eta/((Ei-Ej+en)**2+eta**2))\n",
    "#                    Imsigma_xx += (f[i]-f[j])*(4/en)*hv**2*matrix_element**2*((Ei-Ej+en)/((Ei-Ej+en)**2+eta**2))\n",
    "                    Resigma_xx += (f[i]-f[j])*(4/en)*(hv**2/S)*matrix_element**2*(eta/((Ei-Ej+en)**2+eta**2))\n",
    "                    Imsigma_xx += (f[i]-f[j])*(4/en)*(hv**2/S)*matrix_element**2*((Ei-Ej+en)/((Ei-Ej+en)**2+eta**2))\n",
    "#    return sigma_xx/1.j\n",
    "    return Resigma_xx, Imsigma_xx"
   ]
  },
  {
   "cell_type": "code",
   "execution_count": 83,
   "metadata": {},
   "outputs": [
    {
     "name": "stdout",
     "output_type": "stream",
     "text": [
      "1.7462536241909419\n"
     ]
    }
   ],
   "source": [
    "#S = d**2*0.5*np.sqrt(3)*0.25*(1/np.sin(0.5*theta*np.pi/180))**2\n",
    "#S = d**2*0.5*np.sqrt(3)\n",
    "#print(S)"
   ]
  },
  {
   "cell_type": "code",
   "execution_count": 64,
   "metadata": {},
   "outputs": [
    {
     "data": {
      "text/plain": [
       "6.712043316560734e-23"
      ]
     },
     "execution_count": 64,
     "metadata": {},
     "output_type": "execute_result"
    }
   ],
   "source": [
    "DinamCond(7,1000)[1]"
   ]
  },
  {
   "cell_type": "code",
   "execution_count": 77,
   "metadata": {},
   "outputs": [
    {
     "data": {
      "image/png": "[encoded data removed]",
      "text/plain": [
       "<Figure size 720x720 with 1 Axes>"
      ]
     },
     "metadata": {
      "needs_background": "light"
     },
     "output_type": "display_data"
    }
   ],
   "source": [
    "dinam_conds = []\n",
    "imag_conds = []\n",
    "\n",
    "Num = 24\n",
    "angle = 6\n",
    "\n",
    "for i in range(Num):\n",
    "    en = 800 + 50*i\n",
    "    dinam_conds.append([en, DinamCond(angle, en)[0]])\n",
    "#    dinam_conds.append([angle, en, np.real(DinamCond(angle, en)), np.imag(DinamCond(angle, en))])\n",
    "#    imag_conds.append([en, np.imag(DinamCond(angle, en))])\n",
    "\n",
    "dinam_conds\n",
    "x, y = np.array(dinam_conds).T\n",
    "\n",
    "plt.figure(figsize=(10,10))\n",
    "plt.scatter(x, y)\n",
    "plt.ylabel('sigmaxx', fontsize=20)\n",
    "plt.xlabel('E (meV)', fontsize=20)\n",
    "plt.title( \"theta = \" + str(angle) + \", N = \" + str(N) + \",levels = \" + str(levels) )\n",
    "plt.show()"
   ]
  },
  {
   "cell_type": "code",
   "execution_count": 78,
   "metadata": {},
   "outputs": [
    {
     "data": {
      "text/plain": [
       "[[800, 3.939462673038493e-23],\n",
       " [850, 7.26092983544444e-23],\n",
       " [900, 1.1156429835340262e-25],\n",
       " [950, 9.668093891914797e-25],\n",
       " [1000, 1.0412432431640103e-24],\n",
       " [1050, 1.1564123623974443e-25],\n",
       " [1100, 6.207437433123063e-27],\n",
       " [1150, 2.4247660824043605e-23],\n",
       " [1200, 3.6577519825860905e-25],\n",
       " [1250, 5.563750575880169e-25],\n",
       " [1300, 1.2019783515386483e-27],\n",
       " [1350, 5.352603672428338e-26],\n",
       " [1400, 9.520696916892204e-25],\n",
       " [1450, 1.2593834757563901e-24],\n",
       " [1500, 3.5307807015810165e-24],\n",
       " [1550, 3.980084109057759e-24],\n",
       " [1600, 9.27003514845447e-27],\n",
       " [1650, 3.3315242776207184e-24],\n",
       " [1700, 2.208862252014977e-28],\n",
       " [1750, 8.784290705766984e-26],\n",
       " [1800, 5.381628989761137e-26],\n",
       " [1850, 9.221958148995064e-27],\n",
       " [1900, 2.7120661925778484e-28],\n",
       " [1950, 2.173353328910756e-27]]"
      ]
     },
     "execution_count": 78,
     "metadata": {},
     "output_type": "execute_result"
    }
   ],
   "source": [
    "dinam_conds"
   ]
  },
  {
   "cell_type": "code",
   "execution_count": null,
   "metadata": {},
   "outputs": [],
   "source": []
  }
 ],
 "metadata": {
  "kernelspec": {
   "display_name": "Python 3",
   "language": "python",
   "name": "python3"
  },
  "language_info": {
   "codemirror_mode": {
    "name": "ipython",
    "version": 3
   },
   "file_extension": ".py",
   "mimetype": "text/x-python",
   "name": "python",
   "nbconvert_exporter": "python",
   "pygments_lexer": "ipython3",
   "version": "3.8.5"
  }
 },
 "nbformat": 4,
 "nbformat_minor": 4
}
