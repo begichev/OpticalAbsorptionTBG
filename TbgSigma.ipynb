{
 "cells": [
  {
   "cell_type": "code",
   "execution_count": 104,
   "metadata": {},
   "outputs": [],
   "source": [
    "import matplotlib.pyplot as plt\n",
    "import numpy as np\n",
    "from scipy.sparse.linalg import eigsh\n",
    "import scipy as sps\n",
    "import csv\n",
    "\n",
    "#define constant\n",
    "\n",
    "omega  = 110.7          #mev\n",
    "d      = 1.420          #angstrom, whatever is ok.\n",
    "hv     = 1.5*d*2970     #meV*angstrom, Fermi velocity for SLG\n",
    "N      = 15              #truncate range\n",
    "valley = 1             #+1 for K, -1 for K'\n",
    "KDens  = 100            #density of k points, 100 is good.\n",
    "\n",
    "#tune parameters\n",
    "\n",
    "I      = complex(0, 1)\n",
    "ei120  = np.cos(2*np.pi/3) + valley*I*np.sin(2*np.pi/3)\n",
    "ei240  = np.cos(2*np.pi/3) - valley*I*np.sin(2*np.pi/3)\n",
    "\n",
    "\n",
    "\n",
    "Tqb    = omega*np.array([[1,1], [1,1]], dtype=complex)\n",
    "Tqtr   = omega*np.array([[ei120, 1], [ei240, ei120]], dtype=complex)\n",
    "Tqtl   = omega*np.array([[ei240, 1], [ei120, ei240]], dtype=complex)\n",
    "TqbD   = np.array(np.matrix(Tqb).H)\n",
    "TqtrD  = np.array(np.matrix(Tqtr).H)\n",
    "TqtlD  = np.array(np.matrix(Tqtl).H)\n",
    "\n",
    "#define Lattice\n",
    "L = []\n",
    "invL = np.zeros((2*N+1, 2*N+1), int)\n",
    "\n",
    "def Lattice(n):\n",
    "    count = 0\n",
    "    for i in np.arange(-n, n+1):\n",
    "        for j in np.arange(-n, n+1):\n",
    "            L.append([i, j])\n",
    "            invL[i+n, j+n] = count\n",
    "            count = count + 1\n",
    "    for i in np.arange(-n, n+1):\n",
    "        for j in np.arange(-n, n+1):\n",
    "            L.append([i, j])\n",
    "\n",
    "Lattice(N)\n",
    "siteN = (2*N+1)*(2*N+1)\n",
    "L = np.array(L)\n",
    "\n",
    "levels = 60\n",
    "\n",
    "\n",
    "def Hamiltonian(kx, ky, theta):\n",
    "    \n",
    "    theta  = theta/180.0*np.pi \n",
    "    b1m    = 8*np.pi*np.sin(theta/2)/3/d*np.array([0.5, -np.sqrt(3)/2])\n",
    "    b2m    = 8*np.pi*np.sin(theta/2)/3/d*np.array([0.5, np.sqrt(3)/2])\n",
    "    qb     = 8*np.pi*np.sin(theta/2)/3/np.sqrt(3)/d*np.array([0, -1])\n",
    "    K1     = 8*np.pi*np.sin(theta/2)/3/np.sqrt(3)/d*np.array([-np.sqrt(3)/2,-0.5])\n",
    "    K2     = 8*np.pi*np.sin(theta/2)/3/np.sqrt(3)/d*np.array([-np.sqrt(3)/2,0.5])\n",
    "    H = np.array(np.zeros((4*siteN, 4*siteN)), dtype=complex)\n",
    "    \n",
    "    for i in np.arange(siteN):\n",
    "        #diagonal term\n",
    "        ix = L[i, 0]\n",
    "        iy = L[i, 1]\n",
    "        ax = kx - valley*K1[0] + ix*b1m[0] + iy*b2m[0]\n",
    "        ay = ky - valley*K1[1] + ix*b1m[1] + iy*b2m[1]\n",
    "\n",
    "        qx = np.cos(theta/2) * ax + np.sin(theta/2) * ay\n",
    "        qy =-np.sin(theta/2) * ax + np.cos(theta/2) * ay\n",
    "         \n",
    "        H[2*i, 2*i+1] = hv * (valley*qx - I*qy)\n",
    "        H[2*i+1, 2*i] = hv * (valley*qx + I*qy)\n",
    "\n",
    "        #off-diagonal term\n",
    "        j = i + siteN\n",
    "        H[2*j, 2*i]     = TqbD[0, 0]\n",
    "        H[2*j, 2*i+1]   = TqbD[0, 1]\n",
    "        H[2*j+1, 2*i]   = TqbD[1, 0]\n",
    "        H[2*j+1, 2*i+1] = TqbD[1, 1]\n",
    "        if (iy != valley*N):\n",
    "            j = invL[ix+N, iy+valley*1+N] + siteN\n",
    "            H[2*j, 2*i]     = TqtrD[0, 0]\n",
    "            H[2*j, 2*i+1]   = TqtrD[0, 1]\n",
    "            H[2*j+1, 2*i]   = TqtrD[1, 0]\n",
    "            H[2*j+1, 2*i+1] = TqtrD[1, 1]\n",
    "        if (ix != -valley*N):\n",
    "            j = invL[ix-valley*1+N, iy+N] + siteN\n",
    "            H[2*j, 2*i]     = TqtlD[0, 0]\n",
    "            H[2*j, 2*i+1]   = TqtlD[0, 1]\n",
    "            H[2*j+1, 2*i]   = TqtlD[1, 0]\n",
    "            H[2*j+1, 2*i+1] = TqtlD[1, 1]\n",
    "        \n",
    "\n",
    "    for i in np.arange(siteN, 2*siteN):\n",
    "        #diagnoal term\n",
    "        j = i - siteN\n",
    "        ix = L[j, 0]\n",
    "        iy = L[j, 1]\n",
    "        ax = kx  - valley*K2[0] + ix*b1m[0] + iy*b2m[0] \n",
    "        ay = ky  - valley*K2[1] + ix*b1m[1] + iy*b2m[1]\n",
    "\n",
    "        qx = np.cos(theta/2) * ax - np.sin(theta/2) * ay\n",
    "        qy = np.sin(theta/2) * ax + np.cos(theta/2) * ay\n",
    "\n",
    "        H[2*i, 2*i+1] = hv * (valley*qx - I*qy)\n",
    "        H[2*i+1, 2*i] = hv * (valley*qx + I*qy)\n",
    "\n",
    "        #off-diagonal term\n",
    "        H[2*j, 2*i]     = Tqb[0, 0]\n",
    "        H[2*j, 2*i+1]   = Tqb[0, 1]\n",
    "        H[2*j+1, 2*i]   = Tqb[1, 0]\n",
    "        H[2*j+1, 2*i+1] = Tqb[1, 1]\n",
    "        if (iy != (-valley*N)):\n",
    "            j = invL[ix+N, iy-valley*1+N]\n",
    "            H[2*j, 2*i]     = Tqtr[0, 0]\n",
    "            H[2*j, 2*i+1]   = Tqtr[0, 1]\n",
    "            H[2*j+1, 2*i]   = Tqtr[1, 0]\n",
    "            H[2*j+1, 2*i+1] = Tqtr[1, 1]\n",
    "        if (ix != valley*N):\n",
    "            j = invL[ix+valley*1+N, iy+N]\n",
    "            H[2*j, 2*i]     = Tqtl[0, 0]\n",
    "            H[2*j, 2*i+1]   = Tqtl[0, 1]\n",
    "            H[2*j+1, 2*i]   = Tqtl[1, 0]\n",
    "            H[2*j+1, 2*i+1] = Tqtl[1, 1]\n",
    "\n",
    "\n",
    "    eigensystem = sps.sparse.linalg.eigsh(H, k = levels, which = \"SM\")\n",
    "    \n",
    "    return eigensystem\n",
    "            \n",
    "sigma = np.array(np.zeros((4*siteN, 4*siteN)), dtype=complex)\n",
    "\n",
    "for i in np.arange(2*siteN):\n",
    "        sigma[2*i, 2*i+1] = 1\n",
    "        sigma[2*i+1, 2*i] = 1\n",
    "        \n",
    "f = np.array(np.zeros((levels), dtype=int))\n",
    "\n",
    "for i in np.arange(int(levels/2)):\n",
    "    f[i] = 1\n",
    "    \n",
    "eta = 3 # broadening of resonances in meV\n",
    "\n",
    "def DinamCond(theta, en):\n",
    "    \n",
    "    # returns sigma_xx/sigma_mono following Moon Koshino (2013)\n",
    "    # the output has dimensions 1/angstrom^2. all energies are treated in meV.\n",
    "    \n",
    "    eig_vec = Hamiltonian(0,0,theta)\n",
    "#    eig_vec = Hamiltonian(0.5*np.sqrt(3)*kD,0,theta)\n",
    "    sorted_eig_ens = np.sort(eig_vec[0])\n",
    "    sorted_eig_vec = []\n",
    "    argsort = eig_vec[0].argsort(axis=None)\n",
    "    for i in np.arange(levels):\n",
    "        sorted_eig_vec.append(eig_vec[1][:,np.where(argsort==i)])\n",
    "    sorted_eig_vec = np.array(sorted_eig_vec)\n",
    "    sorted_eig_vec = np.squeeze(sorted_eig_vec)\n",
    "    \n",
    "#    S = d**2*0.5*np.sqrt(3)*0.25*(1/np.sin(0.5*theta*np.pi/180))**2\n",
    "    \n",
    "#    sigma_xx = 0\n",
    "    Resigma_xx = 0\n",
    "    Imsigma_xx = 0\n",
    "    \n",
    "    for i in np.arange(levels):\n",
    "        for j in np.arange(levels):\n",
    "                if i!=j:\n",
    "                    matrix_element = np.abs(np.dot(sorted_eig_vec[i], np.matmul(sigma, sorted_eig_vec[j])))\n",
    "                    Ei = sorted_eig_ens[i]\n",
    "                    Ej = sorted_eig_ens[j]\n",
    "#                    sigma_xx += (f[i]-f[j])*(4/en)*hv**2*matrix_element**2/(Ei-Ej+en+1.j*eta)\n",
    "                    Resigma_xx += (f[i]-f[j])*(4/en)*hv**2*matrix_element**2*(eta/((Ei-Ej+en)**2+eta**2))\n",
    "                    Imsigma_xx += (f[i]-f[j])*(4/en)*hv**2*matrix_element**2*((Ei-Ej+en)/((Ei-Ej+en)**2+eta**2))\n",
    "#                    Resigma_xx += (f[i]-f[j])*(4/en)*(hv**2/S)*matrix_element**2*(eta/((Ei-Ej+en)**2+eta**2))\n",
    "#                    Imsigma_xx += (f[i]-f[j])*(4/en)*(hv**2/S)*matrix_element**2*((Ei-Ej+en)/((Ei-Ej+en)**2+eta**2))\n",
    "#    return sigma_xx/1.j\n",
    "    return Resigma_xx, Imsigma_xx"
   ]
  },
  {
   "cell_type": "code",
   "execution_count": 121,
   "metadata": {},
   "outputs": [],
   "source": [
    "eig_vec = Hamiltonian(0,0,5)"
   ]
  },
  {
   "cell_type": "code",
   "execution_count": 123,
   "metadata": {},
   "outputs": [
    {
     "data": {
      "text/plain": [
       "(60,)"
      ]
     },
     "execution_count": 123,
     "metadata": {},
     "output_type": "execute_result"
    }
   ],
   "source": [
    "eig_vec[0].shape"
   ]
  },
  {
   "cell_type": "code",
   "execution_count": 108,
   "metadata": {},
   "outputs": [],
   "source": [
    "eig_vec = Hamiltonian(0,0,5)\n",
    "#eig_vec = Hamiltonian(0.5*np.sqrt(3)*kD,0,theta)\n",
    "sorted_eig_ens = np.sort(eig_vec[0])\n",
    "sorted_eig_vec = []\n",
    "argsort = eig_vec[0].argsort(axis=None)\n",
    "for i in np.arange(levels):\n",
    "    sorted_eig_vec.append(eig_vec[1][:,np.where(argsort==i)])\n",
    "sorted_eig_vec = np.array(sorted_eig_vec)\n",
    "sorted_eig_vec = np.squeeze(sorted_eig_vec)"
   ]
  },
  {
   "cell_type": "code",
   "execution_count": 109,
   "metadata": {},
   "outputs": [
    {
     "data": {
      "text/plain": [
       "array([-3302.24869673, -3302.2486823 , -3302.2486823 , -3297.92949807,\n",
       "       -3297.92949807, -3297.92948297, -2700.11858518, -2700.11463096,\n",
       "       -2700.11463096, -2526.63671937, -2526.63671937, -2526.26319461,\n",
       "       -2524.0897678 , -2523.72264137, -2523.72264137, -2267.32752126,\n",
       "       -2267.32752126, -2267.32556405, -1843.70237889, -1843.69913784,\n",
       "       -1843.69913784, -1838.25520436, -1838.25520436, -1838.18934857,\n",
       "       -1151.50532348, -1127.75256502, -1127.75256502,  -737.46745766,\n",
       "        -737.46745766,  -723.55042937,   713.07858558,   734.04311903,\n",
       "         734.04311903,  1129.58136775,  1129.58136775,  1160.35790543,\n",
       "        1837.46811593,  1837.60641561,  1837.60641561,  1843.14817498,\n",
       "        1843.14817498,  1843.24950114,  2265.43154413,  2265.43762815,\n",
       "        2265.43762815,  2522.67714397,  2522.67714397,  2523.01020677,\n",
       "        2528.73288848,  2529.07377924,  2529.07377924,  2701.82696625,\n",
       "        2701.82696625,  2701.83455769,  3297.09766474,  3297.09769161,\n",
       "        3297.09769161,  3301.45144458,  3301.45144458,  3301.4514804 ])"
      ]
     },
     "execution_count": 109,
     "metadata": {},
     "output_type": "execute_result"
    }
   ],
   "source": [
    "sorted_eig_ens"
   ]
  },
  {
   "cell_type": "code",
   "execution_count": 110,
   "metadata": {},
   "outputs": [
    {
     "data": {
      "text/plain": [
       "array([[ 5.81630468e-19+1.63192873e-18j,  3.47048659e-18-5.57310776e-19j,\n",
       "         5.46302220e-18+1.15842282e-18j, ...,\n",
       "         1.68072971e-20-2.23814502e-19j, -1.93643713e-18+4.49700682e-18j,\n",
       "         2.12097125e-19-2.65759591e-18j],\n",
       "       [-4.51232050e-18-2.14533945e-18j, -8.43215679e-18+7.68788330e-18j,\n",
       "        -1.13685275e-17-5.23051459e-18j, ...,\n",
       "         4.34133754e-19+3.04530645e-18j,  1.81149734e-17-3.97579088e-17j,\n",
       "        -1.96890137e-17+4.69774807e-17j],\n",
       "       [-3.64203491e-18-9.99430741e-18j, -1.04407991e-17+2.77803780e-18j,\n",
       "        -2.00211470e-18-7.87542537e-22j, ...,\n",
       "         4.06767382e-19+1.29624041e-18j, -3.71996694e-18+1.06260458e-17j,\n",
       "         3.97316079e-18-1.28558805e-17j],\n",
       "       ...,\n",
       "       [-4.23797875e-18+1.62356202e-17j,  1.08658362e-18-2.06091568e-17j,\n",
       "        -2.98599489e-18+4.69289738e-18j, ...,\n",
       "        -3.70758744e-18-9.83222154e-18j,  8.07731144e-18+3.13302093e-18j,\n",
       "         5.54109368e-18+1.49102283e-17j],\n",
       "       [ 3.41921988e-18+7.47762596e-18j,  7.35262248e-18-2.82357215e-18j,\n",
       "         7.53907296e-18+1.18755698e-18j, ...,\n",
       "        -2.42877263e-19-8.66085714e-19j,  8.49823391e-19-8.88441268e-18j,\n",
       "        -5.57266929e-18+1.08768754e-17j],\n",
       "       [-5.76121073e-19-1.32254093e-17j, -2.56644250e-19+1.10347718e-17j,\n",
       "        -1.34249717e-17+2.23343286e-18j, ...,\n",
       "         2.84904081e-18+6.72812409e-18j, -1.42581695e-18-4.93009701e-18j,\n",
       "         3.68291322e-18+6.97821999e-18j]])"
      ]
     },
     "execution_count": 110,
     "metadata": {},
     "output_type": "execute_result"
    }
   ],
   "source": [
    "sorted_eig_vec"
   ]
  },
  {
   "cell_type": "code",
   "execution_count": 111,
   "metadata": {},
   "outputs": [
    {
     "data": {
      "text/plain": [
       "array([ 5.81630468e-19+1.63192873e-18j,  3.47048659e-18-5.57310776e-19j,\n",
       "        5.46302220e-18+1.15842282e-18j, ...,\n",
       "        1.68072971e-20-2.23814502e-19j, -1.93643713e-18+4.49700682e-18j,\n",
       "        2.12097125e-19-2.65759591e-18j])"
      ]
     },
     "execution_count": 111,
     "metadata": {},
     "output_type": "execute_result"
    }
   ],
   "source": [
    "sorted_eig_vec[0]"
   ]
  },
  {
   "cell_type": "code",
   "execution_count": 112,
   "metadata": {},
   "outputs": [
    {
     "data": {
      "text/plain": [
       "(-0.2479862986233987+0j)"
      ]
     },
     "execution_count": 112,
     "metadata": {},
     "output_type": "execute_result"
    }
   ],
   "source": [
    "np.dot(np.conj(sorted_eig_vec[0]),np.matmul(sigma, sorted_eig_vec[0]))"
   ]
  },
  {
   "cell_type": "code",
   "execution_count": 113,
   "metadata": {},
   "outputs": [
    {
     "data": {
      "text/plain": [
       "(-4.54523363391246e-11+0j)"
      ]
     },
     "execution_count": 113,
     "metadata": {},
     "output_type": "execute_result"
    }
   ],
   "source": [
    "np.dot(np.conj(sorted_eig_vec[1]),np.matmul(sigma, sorted_eig_vec[1]))"
   ]
  },
  {
   "cell_type": "code",
   "execution_count": 115,
   "metadata": {},
   "outputs": [
    {
     "ename": "ValueError",
     "evalue": "matmul: Input operand 1 has a mismatch in its core dimension 0, with gufunc signature (n?,k),(k,m?)->(n?,m?) (size 60 is different from 3844)",
     "output_type": "error",
     "traceback": [
      "\u001b[0;31m---------------------------------------------------------------------------\u001b[0m",
      "\u001b[0;31mValueError\u001b[0m                                Traceback (most recent call last)",
      "\u001b[0;32m<ipython-input-115-7b8fa3e812d4>\u001b[0m in \u001b[0;36m<module>\u001b[0;34m\u001b[0m\n\u001b[0;32m----> 1\u001b[0;31m \u001b[0mnp\u001b[0m\u001b[0;34m.\u001b[0m\u001b[0mdot\u001b[0m\u001b[0;34m(\u001b[0m\u001b[0mnp\u001b[0m\u001b[0;34m.\u001b[0m\u001b[0mconj\u001b[0m\u001b[0;34m(\u001b[0m\u001b[0msorted_eig_vec\u001b[0m\u001b[0;34m[\u001b[0m\u001b[0;34m:\u001b[0m\u001b[0;34m]\u001b[0m\u001b[0;34m)\u001b[0m\u001b[0;34m,\u001b[0m\u001b[0mnp\u001b[0m\u001b[0;34m.\u001b[0m\u001b[0mmatmul\u001b[0m\u001b[0;34m(\u001b[0m\u001b[0msigma\u001b[0m\u001b[0;34m,\u001b[0m \u001b[0msorted_eig_vec\u001b[0m\u001b[0;34m[\u001b[0m\u001b[0;34m:\u001b[0m\u001b[0;34m]\u001b[0m\u001b[0;34m)\u001b[0m\u001b[0;34m)\u001b[0m\u001b[0;34m\u001b[0m\u001b[0;34m\u001b[0m\u001b[0m\n\u001b[0m",
      "\u001b[0;31mValueError\u001b[0m: matmul: Input operand 1 has a mismatch in its core dimension 0, with gufunc signature (n?,k),(k,m?)->(n?,m?) (size 60 is different from 3844)"
     ]
    }
   ],
   "source": [
    "np.dot(np.conj(sorted_eig_vec[:]),np.matmul(sigma, sorted_eig_vec[:]))"
   ]
  },
  {
   "cell_type": "code",
   "execution_count": 118,
   "metadata": {},
   "outputs": [
    {
     "ename": "IndexError",
     "evalue": "too many indices for array: array is 0-dimensional, but 1 were indexed",
     "output_type": "error",
     "traceback": [
      "\u001b[0;31m---------------------------------------------------------------------------\u001b[0m",
      "\u001b[0;31mIndexError\u001b[0m                                Traceback (most recent call last)",
      "\u001b[0;32m<ipython-input-118-55638d5188a4>\u001b[0m in \u001b[0;36m<module>\u001b[0;34m\u001b[0m\n\u001b[1;32m      1\u001b[0m \u001b[0mvelocities\u001b[0m \u001b[0;34m=\u001b[0m \u001b[0mnp\u001b[0m\u001b[0;34m.\u001b[0m\u001b[0marray\u001b[0m\u001b[0;34m(\u001b[0m\u001b[0mnp\u001b[0m\u001b[0;34m.\u001b[0m\u001b[0mdot\u001b[0m\u001b[0;34m(\u001b[0m\u001b[0mnp\u001b[0m\u001b[0;34m.\u001b[0m\u001b[0mconj\u001b[0m\u001b[0;34m(\u001b[0m\u001b[0msorted_eig_vec\u001b[0m\u001b[0;34m[\u001b[0m\u001b[0mi\u001b[0m\u001b[0;34m]\u001b[0m\u001b[0;34m)\u001b[0m\u001b[0;34m,\u001b[0m\u001b[0mnp\u001b[0m\u001b[0;34m.\u001b[0m\u001b[0mmatmul\u001b[0m\u001b[0;34m(\u001b[0m\u001b[0msigma\u001b[0m\u001b[0;34m,\u001b[0m \u001b[0msorted_eig_vec\u001b[0m\u001b[0;34m[\u001b[0m\u001b[0mi\u001b[0m\u001b[0;34m]\u001b[0m\u001b[0;34m)\u001b[0m\u001b[0;34m)\u001b[0m \u001b[0;32mfor\u001b[0m \u001b[0mi\u001b[0m \u001b[0;32min\u001b[0m \u001b[0mrange\u001b[0m\u001b[0;34m(\u001b[0m\u001b[0;36m10\u001b[0m\u001b[0;34m)\u001b[0m\u001b[0;34m)\u001b[0m\u001b[0;34m\u001b[0m\u001b[0;34m\u001b[0m\u001b[0m\n\u001b[0;32m----> 2\u001b[0;31m \u001b[0mvelocities\u001b[0m\u001b[0;34m[\u001b[0m\u001b[0;36m0\u001b[0m\u001b[0;34m]\u001b[0m\u001b[0;34m\u001b[0m\u001b[0;34m\u001b[0m\u001b[0m\n\u001b[0m",
      "\u001b[0;31mIndexError\u001b[0m: too many indices for array: array is 0-dimensional, but 1 were indexed"
     ]
    }
   ],
   "source": [
    "velocities = np.array(np.dot(np.conj(sorted_eig_vec[i]),np.matmul(sigma, sorted_eig_vec[i])) for i in range(10))\n",
    "velocities[0]"
   ]
  },
  {
   "cell_type": "code",
   "execution_count": 120,
   "metadata": {},
   "outputs": [
    {
     "name": "stderr",
     "output_type": "stream",
     "text": [
      "<ipython-input-120-b15fd15f8d50>:3: ComplexWarning: Casting complex values to real discards the imaginary part\n",
      "  velocities[i] = np.dot(np.conj(sorted_eig_vec[i]),np.matmul(sigma, sorted_eig_vec[i]))\n"
     ]
    },
    {
     "name": "stdout",
     "output_type": "stream",
     "text": [
      "[-2.47986299e-01 -4.54523363e-11  2.38238524e-01  2.30027050e-01\n",
      "  3.59555655e-01  2.54690369e-01 -3.59553843e-01 -3.01577503e-09\n",
      " -7.25692943e-12 -2.34294234e-01 -1.04965671e-08  3.69458477e-01\n",
      "  4.74504520e-01 -3.61930870e-01 -5.20699803e-12 -2.65587242e-09\n",
      " -3.54468711e-01 -2.79476789e-02  8.97260033e-02 -8.83085940e-02\n",
      "  9.93393305e-10  2.99588219e-02 -2.97823571e-10 -4.73153092e-01\n",
      " -1.97092342e-11  1.06810453e-01  2.28727828e-10  9.69288538e-12\n",
      " -1.06836255e-01  2.10478744e-01 -1.72047325e-01  3.54693648e-01\n",
      "  3.59501181e-02  1.07341636e-11  1.68669794e-01 -3.08247867e-02\n",
      " -2.34900126e-01  2.60104217e-01 -2.53812950e-01 -4.66584430e-02\n",
      " -3.14403621e-01 -3.18293143e-01 -2.21079030e-08  3.17535791e-01\n",
      " -2.11273549e-01  3.14902223e-01  4.22624012e-02 -5.74758721e-06\n",
      "  1.62689306e-13  6.76168790e-02 -6.87592344e-14 -2.38142839e-13\n",
      " -6.74625298e-02 -8.75369222e-13  4.39994911e-01 -9.96757914e-02\n",
      "  1.59007324e-06 -4.40179361e-01 -1.46130335e-07  9.94543601e-02]\n"
     ]
    }
   ],
   "source": [
    "velocities = np.zeros(levels)\n",
    "for i in np.arange(levels):\n",
    "    velocities[i] = np.dot(np.conj(sorted_eig_vec[i]),np.matmul(sigma, sorted_eig_vec[i]))\n",
    "\n",
    "print(velocities)"
   ]
  },
  {
   "cell_type": "code",
   "execution_count": 107,
   "metadata": {},
   "outputs": [
    {
     "data": {
      "image/png": "[encoded data removed]",
      "text/plain": [
       "<Figure size 720x720 with 1 Axes>"
      ]
     },
     "metadata": {
      "needs_background": "light"
     },
     "output_type": "display_data"
    }
   ],
   "source": [
    "dinam_conds = []\n",
    "imag_conds = []\n",
    "\n",
    "Num = 4\n",
    "angle = 2.5\n",
    "\n",
    "for i in range(Num):\n",
    "    en = 500 + 50*i\n",
    "    dinam_conds.append([en, DinamCond(angle, en)[0]])\n",
    "#    dinam_conds.append([angle, en, np.real(DinamCond(angle, en)), np.imag(DinamCond(angle, en))])\n",
    "#    imag_conds.append([en, np.imag(DinamCond(angle, en))])\n",
    "\n",
    "dinam_conds\n",
    "x, y = np.array(dinam_conds).T\n",
    "\n",
    "plt.figure(figsize=(10,10))\n",
    "plt.scatter(x, y)\n",
    "plt.ylabel('sigmaxx', fontsize=20)\n",
    "plt.xlabel('E (meV)', fontsize=20)\n",
    "plt.title( \"theta = \" + str(angle) + \", N = \" + str(N) + \",levels = \" + str(levels) )\n",
    "plt.show()"
   ]
  },
  {
   "cell_type": "code",
   "execution_count": 30,
   "metadata": {
    "scrolled": false
   },
   "outputs": [
    {
     "data": {
      "image/png": "[encoded data removed]",
      "text/plain": [
       "<Figure size 720x720 with 1 Axes>"
      ]
     },
     "metadata": {
      "needs_background": "light"
     },
     "output_type": "display_data"
    }
   ],
   "source": [
    "dinam_conds = []\n",
    "imag_conds = []\n",
    "\n",
    "Num = 14\n",
    "angle = 2\n",
    "\n",
    "for i in range(Num):\n",
    "    en = 1300 + 50*i\n",
    "    dinam_conds.append([angle, en, np.real(DinamCond(angle, en)), np.imag(DinamCond(angle, en))])\n",
    "#    imag_conds.append([en, np.imag(DinamCond(angle, en))])\n",
    "\n",
    "dinam_conds\n",
    "x, y = np.array(dinam_conds).T\n",
    "\n",
    "plt.figure(figsize=(10,10))\n",
    "plt.scatter(x, y)\n",
    "plt.ylabel('sigmaxx', fontsize=20)\n",
    "plt.xlabel('E (meV)', fontsize=20)\n",
    "plt.title( \"theta = \" + str(angle) + \", N = \" + str(N) + \",levels = \" + str(levels) )\n",
    "plt.show()"
   ]
  },
  {
   "cell_type": "code",
   "execution_count": 86,
   "metadata": {},
   "outputs": [],
   "source": [
    "with open('sigma_xx.csv', 'w', encoding='UTF8', newline='') as file:\n",
    "    writer = csv.writer(file)\n",
    "    header = ['Angle', 'Energy', 'Re_sigma_xx', 'Im_sigma_xx']\n",
    "    writer.writerow(header)\n",
    "    for angle in range(10,20):\n",
    "        Num = 14*5\n",
    "        for i in range(Num):\n",
    "            en = 1300 + 10*i\n",
    "            writer.writerow([angle, en, np.real(DinamCond(angle, en)), np.imag(DinamCond(angle, en))])"
   ]
  },
  {
   "cell_type": "code",
   "execution_count": 106,
   "metadata": {},
   "outputs": [
    {
     "data": {
      "text/plain": [
       "[[1300, 630.5965139935753],\n",
       " [1350, 38.925163529414384],\n",
       " [1400, 40.16679453151366],\n",
       " [1450, 88.97042786544777],\n",
       " [1500, 493.44061424909927],\n",
       " [1550, 1305.8774977020066],\n",
       " [1600, 134.14377818711597],\n",
       " [1650, 1060.4233367043148],\n",
       " [1700, 11007.142798812023],\n",
       " [1750, 245.42304377330782],\n",
       " [1800, 931.7382410828275],\n",
       " [1850, 1205.2977144614601],\n",
       " [1900, 958.358524124495],\n",
       " [1950, 162.6382837032406]]"
      ]
     },
     "execution_count": 106,
     "metadata": {},
     "output_type": "execute_result"
    }
   ],
   "source": [
    "dinam_conds"
   ]
  },
  {
   "cell_type": "code",
   "execution_count": null,
   "metadata": {},
   "outputs": [],
   "source": [
    "conds5 = [[1300, 5.252293660975694],\n",
    " [1350, 4.567598569476645],\n",
    " [1400, 0.4252526265390444],\n",
    " [1450, 66.88617808939239],\n",
    " [1500, 15.164060582092022],\n",
    " [1550, 9.544643217487637],\n",
    " [1600, 28.112304188254807],\n",
    " [1650, 11.258421104179085],\n",
    " [1700, 0.7184946340665195],\n",
    " [1750, 3.7433492099038554],\n",
    " [1800, 247.06503037593512],\n",
    " [1850, 52.18708641445488],\n",
    " [1900, 88.35346941812196],\n",
    " [1950, 24.232192223650273]]\n",
    "\n",
    "conds6 = [[1300, 0.9384140448998127],\n",
    " [1350, 0.8040657660542087],\n",
    " [1400, 0.6021185488020895],\n",
    " [1450, 1.3267543588647717],\n",
    " [1500, 1.1291545518951116],\n",
    " [1550, 0.5823801656695216],\n",
    " [1600, 2.008763606582156],\n",
    " [1650, 5.389850579716519],\n",
    " [1700, 0.3382483691621822],\n",
    " [1750, 1.0370490768969693],\n",
    " [1800, 22.32195881659115],\n",
    " [1850, 3388.6791583248346],\n",
    " [1900, 54.95756112434922],\n",
    " [1950, 18.15984309056459]]\n",
    "\n",
    "conds7 = [[1300, 0.3821868143780454],\n",
    " [1350, 0.15546631545310902],\n",
    " [1400, 0.2586911987866697],\n",
    " [1450, 0.3265806733935792],\n",
    " [1500, 0.4972373188660809],\n",
    " [1550, 0.5153226137705862],\n",
    " [1600, 0.5760045541992608],\n",
    " [1650, 0.5913816699135684],\n",
    " [1700, 0.573244531601561],\n",
    " [1750, 0.665600538927251],\n",
    " [1800, 0.6444337213070291],\n",
    " [1850, 0.3289396821581938],\n",
    " [1900, 0.157306370087672],\n",
    " [1950, 1.8410358902945279]]\n",
    "\n",
    "iconds7 = [[1300, -40.45874532929643],\n",
    " [1350, -48.537821530384576],\n",
    " [1400, -70.1946055779434],\n",
    " [1450, -65.19993695865664],\n",
    " [1500, -35.96621904023795],\n",
    " [1550, -50.30220224476713],\n",
    " [1600, -95.33943743865744],\n",
    " [1650, -102.29231436479017],\n",
    " [1700, -31.971923313118054],\n",
    " [1750, -56.894588326593016],\n",
    " [1800, -136.85652241289847],\n",
    " [1850, -220.4840390280082],\n",
    " [1900, -76.26264698285932],\n",
    " [1950, -140.57247367607246]]\n",
    "\n",
    "conds8 = [[1300, 0.1656248299773867],\n",
    " [1350, 0.22267677832574234],\n",
    " [1400, 0.2609075331964035],\n",
    " [1450, 0.10989313632097907],\n",
    " [1500, 0.13989813027703252],\n",
    " [1550, 0.2326159092624772],\n",
    " [1600, 0.2694335318202795],\n",
    " [1650, 0.4196392721833071],\n",
    " [1700, 0.37612641899279586],\n",
    " [1750, 0.4046575846012994],\n",
    " [1800, 0.4180688426882078],\n",
    " [1850, 0.5333383897629719],\n",
    " [1900, 0.3273348017468678],\n",
    " [1950, 0.3789225046449524]]\n",
    "\n",
    "iconds8 = [[1300, -28.030108792748063],\n",
    " [1350, -25.73116143141427],\n",
    " [1400, -44.974962429632086],\n",
    " [1450, -39.30927875654269],\n",
    " [1500, -38.454854646765824],\n",
    " [1550, -31.452334760352336],\n",
    " [1600, -53.82262143250215],\n",
    " [1650, -59.446460666748074],\n",
    " [1700, -24.440438555910056],\n",
    " [1750, -75.9549817901958],\n",
    " [1800, -48.21727388435952],\n",
    " [1850, -73.18396348333972],\n",
    " [1900, -69.48944118749955],\n",
    " [1950, -61.72383226310177]]\n",
    "\n",
    "conds9 = [[1300, 0.11301470742429941],\n",
    " [1350, 0.17937859855283808],\n",
    " [1400, 0.0614173354833207],\n",
    " [1450, 0.08963571604668549],\n",
    " [1500, 0.1285276146597269],\n",
    " [1550, 0.12112979289089013],\n",
    " [1600, 0.16046031938051572],\n",
    " [1650, 0.11670116102467458],\n",
    " [1700, 0.03518393550518082],\n",
    " [1750, 0.10843599137442173],\n",
    " [1800, 0.20446552141186733],\n",
    " [1850, 0.1317567902678599],\n",
    " [1900, 0.1521735221864947],\n",
    " [1950, 0.2458420214393776]]\n",
    "\n",
    "iconds9 = [[1300, -16.473418658208278],\n",
    " [1350, -14.914364221944048],\n",
    " [1400, -31.875643449760158],\n",
    " [1450, -29.920597170180432],\n",
    " [1500, -29.231716539482225],\n",
    " [1550, -44.9606368737315],\n",
    " [1600, -46.79056718141437],\n",
    " [1650, -36.828395965227365],\n",
    " [1700, -34.11004932168901],\n",
    " [1750, -26.626888968258505],\n",
    " [1800, -32.6709783126259],\n",
    " [1850, -44.77490626193301],\n",
    " [1900, -65.86337683226223],\n",
    " [1950, -46.15128881044951]]"
   ]
  },
  {
   "cell_type": "code",
   "execution_count": 32,
   "metadata": {},
   "outputs": [
    {
     "data": {
      "text/plain": [
       "[[1300, -16.473418658208278],\n",
       " [1350, -14.914364221944048],\n",
       " [1400, -31.875643449760158],\n",
       " [1450, -29.920597170180432],\n",
       " [1500, -29.231716539482225],\n",
       " [1550, -44.9606368737315],\n",
       " [1600, -46.79056718141437],\n",
       " [1650, -36.828395965227365],\n",
       " [1700, -34.11004932168901],\n",
       " [1750, -26.626888968258505],\n",
       " [1800, -32.6709783126259],\n",
       " [1850, -44.77490626193301],\n",
       " [1900, -65.86337683226223],\n",
       " [1950, -46.15128881044951]]"
      ]
     },
     "execution_count": 32,
     "metadata": {},
     "output_type": "execute_result"
    }
   ],
   "source": [
    "imag_conds"
   ]
  },
  {
   "cell_type": "code",
   "execution_count": 103,
   "metadata": {},
   "outputs": [
    {
     "data": {
      "text/html": [
       "<div>\n",
       "<style scoped>\n",
       "    .dataframe tbody tr th:only-of-type {\n",
       "        vertical-align: middle;\n",
       "    }\n",
       "\n",
       "    .dataframe tbody tr th {\n",
       "        vertical-align: top;\n",
       "    }\n",
       "\n",
       "    .dataframe thead th {\n",
       "        text-align: right;\n",
       "    }\n",
       "</style>\n",
       "<table border=\"1\" class=\"dataframe\">\n",
       "  <thead>\n",
       "    <tr style=\"text-align: right;\">\n",
       "      <th></th>\n",
       "      <th>Angle</th>\n",
       "      <th>Energy</th>\n",
       "      <th>Re_sigma_xx</th>\n",
       "      <th>Im_sigma_xx</th>\n",
       "    </tr>\n",
       "  </thead>\n",
       "  <tbody>\n",
       "    <tr>\n",
       "      <th>0</th>\n",
       "      <td>10</td>\n",
       "      <td>1300</td>\n",
       "      <td>0.090984</td>\n",
       "      <td>-20.572359</td>\n",
       "    </tr>\n",
       "    <tr>\n",
       "      <th>1</th>\n",
       "      <td>10</td>\n",
       "      <td>1310</td>\n",
       "      <td>0.058550</td>\n",
       "      <td>-10.861771</td>\n",
       "    </tr>\n",
       "    <tr>\n",
       "      <th>2</th>\n",
       "      <td>10</td>\n",
       "      <td>1320</td>\n",
       "      <td>0.067548</td>\n",
       "      <td>-13.933767</td>\n",
       "    </tr>\n",
       "    <tr>\n",
       "      <th>3</th>\n",
       "      <td>10</td>\n",
       "      <td>1330</td>\n",
       "      <td>0.084645</td>\n",
       "      <td>-16.723355</td>\n",
       "    </tr>\n",
       "    <tr>\n",
       "      <th>4</th>\n",
       "      <td>10</td>\n",
       "      <td>1340</td>\n",
       "      <td>0.062812</td>\n",
       "      <td>-23.234074</td>\n",
       "    </tr>\n",
       "  </tbody>\n",
       "</table>\n",
       "</div>"
      ],
      "text/plain": [
       "   Angle  Energy  Re_sigma_xx  Im_sigma_xx\n",
       "0     10    1300     0.090984   -20.572359\n",
       "1     10    1310     0.058550   -10.861771\n",
       "2     10    1320     0.067548   -13.933767\n",
       "3     10    1330     0.084645   -16.723355\n",
       "4     10    1340     0.062812   -23.234074"
      ]
     },
     "execution_count": 103,
     "metadata": {},
     "output_type": "execute_result"
    }
   ],
   "source": [
    "data = pd.read_csv('sigma_xx.csv')\n",
    "data.head()"
   ]
  },
  {
   "cell_type": "code",
   "execution_count": 57,
   "metadata": {},
   "outputs": [],
   "source": [
    "import csv\n",
    " \n",
    "# Create header and data variables\n",
    "header = ['Energy', 'Re_sigma_xx', 'Im_sigma_xx']\n",
    "data = [1000, 5, 6]\n",
    " \n",
    "with open('sigma_xx.csv', 'w', encoding='UTF8', newline='') as file:\n",
    "    # Create a writer object\n",
    "    writer = csv.writer(file)\n",
    "    # Write the header\n",
    "    writer.writerow(header)\n",
    "    # Write the data\n",
    "    writer.writerow(data)"
   ]
  },
  {
   "cell_type": "code",
   "execution_count": 66,
   "metadata": {},
   "outputs": [],
   "source": [
    "with open('sigma_xx.csv', 'w', encoding='UTF8', newline='') as file:\n",
    "    # Create a writer object\n",
    "    writer = csv.writer(file)\n",
    "    # Write the header\n",
    "    writer.writerow(header)\n",
    "    # Write the data\n",
    "    writer.writerow([5, 6, 7])\n",
    "    writer.writerow([7, 3, 2])\n",
    "    writer.writerow([8, 2, 5])\n",
    "    writer.writerow([9, 3, 10])"
   ]
  },
  {
   "cell_type": "code",
   "execution_count": 67,
   "metadata": {},
   "outputs": [],
   "source": [
    "import pandas as pd\n",
    "\n",
    "data = pd.read_csv('sigma_xx.csv')"
   ]
  },
  {
   "cell_type": "code",
   "execution_count": 68,
   "metadata": {},
   "outputs": [
    {
     "data": {
      "text/html": [
       "<div>\n",
       "<style scoped>\n",
       "    .dataframe tbody tr th:only-of-type {\n",
       "        vertical-align: middle;\n",
       "    }\n",
       "\n",
       "    .dataframe tbody tr th {\n",
       "        vertical-align: top;\n",
       "    }\n",
       "\n",
       "    .dataframe thead th {\n",
       "        text-align: right;\n",
       "    }\n",
       "</style>\n",
       "<table border=\"1\" class=\"dataframe\">\n",
       "  <thead>\n",
       "    <tr style=\"text-align: right;\">\n",
       "      <th></th>\n",
       "      <th>Energy</th>\n",
       "      <th>Re_sigma_xx</th>\n",
       "      <th>Im_sigma_xx</th>\n",
       "    </tr>\n",
       "  </thead>\n",
       "  <tbody>\n",
       "    <tr>\n",
       "      <th>0</th>\n",
       "      <td>5</td>\n",
       "      <td>6</td>\n",
       "      <td>7</td>\n",
       "    </tr>\n",
       "    <tr>\n",
       "      <th>1</th>\n",
       "      <td>7</td>\n",
       "      <td>3</td>\n",
       "      <td>2</td>\n",
       "    </tr>\n",
       "    <tr>\n",
       "      <th>2</th>\n",
       "      <td>8</td>\n",
       "      <td>2</td>\n",
       "      <td>5</td>\n",
       "    </tr>\n",
       "    <tr>\n",
       "      <th>3</th>\n",
       "      <td>9</td>\n",
       "      <td>3</td>\n",
       "      <td>10</td>\n",
       "    </tr>\n",
       "  </tbody>\n",
       "</table>\n",
       "</div>"
      ],
      "text/plain": [
       "   Energy  Re_sigma_xx  Im_sigma_xx\n",
       "0       5            6            7\n",
       "1       7            3            2\n",
       "2       8            2            5\n",
       "3       9            3           10"
      ]
     },
     "execution_count": 68,
     "metadata": {},
     "output_type": "execute_result"
    }
   ],
   "source": [
    "data.head()"
   ]
  },
  {
   "cell_type": "code",
   "execution_count": 69,
   "metadata": {},
   "outputs": [
    {
     "data": {
      "text/plain": [
       "0    5\n",
       "1    7\n",
       "2    8\n",
       "3    9\n",
       "Name: Energy, dtype: int64"
      ]
     },
     "execution_count": 69,
     "metadata": {},
     "output_type": "execute_result"
    }
   ],
   "source": [
    "data['Energy']"
   ]
  },
  {
   "cell_type": "code",
   "execution_count": 70,
   "metadata": {},
   "outputs": [
    {
     "data": {
      "text/plain": [
       "0    6\n",
       "1    3\n",
       "2    2\n",
       "3    3\n",
       "Name: Re_sigma_xx, dtype: int64"
      ]
     },
     "execution_count": 70,
     "metadata": {},
     "output_type": "execute_result"
    }
   ],
   "source": [
    "data['Re_sigma_xx']"
   ]
  },
  {
   "cell_type": "code",
   "execution_count": 74,
   "metadata": {},
   "outputs": [
    {
     "data": {
      "text/plain": [
       "<AxesSubplot:xlabel='Energy'>"
      ]
     },
     "execution_count": 74,
     "metadata": {},
     "output_type": "execute_result"
    },
    {
     "data": {
      "image/png": "[encoded data removed]",
      "text/plain": [
       "<Figure size 432x288 with 1 Axes>"
      ]
     },
     "metadata": {
      "needs_background": "light"
     },
     "output_type": "display_data"
    },
    {
     "data": {
      "image/png": "[encoded data removed]",
      "text/plain": [
       "<Figure size 432x288 with 1 Axes>"
      ]
     },
     "metadata": {
      "needs_background": "light"
     },
     "output_type": "display_data"
    }
   ],
   "source": [
    "data[0:2].plot(x=\"Energy\", y=[\"Re_sigma_xx\", \"Im_sigma_xx\"])\n",
    "data[2:].plot(x=\"Energy\", y=[\"Re_sigma_xx\", \"Im_sigma_xx\"])"
   ]
  },
  {
   "cell_type": "code",
   "execution_count": 80,
   "metadata": {},
   "outputs": [
    {
     "data": {
      "image/png": "[encoded data removed]",
      "text/plain": [
       "<Figure size 1080x504 with 1 Axes>"
      ]
     },
     "metadata": {
      "needs_background": "light"
     },
     "output_type": "display_data"
    }
   ],
   "source": [
    "plt.figure(figsize=(15, 7))\n",
    "plt.plot(data[0:2].Energy, data[0:2].Re_sigma_xx, label = 're, angle1')\n",
    "plt.plot(data[0:2].Energy, data[0:2].Im_sigma_xx, label = 'im, angle1')\n",
    "plt.plot(data[2:].Energy, data[2:].Re_sigma_xx, label = 're, angle2')\n",
    "plt.plot(data[2:].Energy, data[2:].Im_sigma_xx, label = 'im, angle2')\n",
    "plt.show()"
   ]
  },
  {
   "cell_type": "code",
   "execution_count": 76,
   "metadata": {},
   "outputs": [
    {
     "data": {
      "text/plain": [
       "0    5\n",
       "1    7\n",
       "2    8\n",
       "3    9\n",
       "Name: Energy, dtype: int64"
      ]
     },
     "execution_count": 76,
     "metadata": {},
     "output_type": "execute_result"
    }
   ],
   "source": [
    "data.Energy"
   ]
  },
  {
   "cell_type": "code",
   "execution_count": 77,
   "metadata": {},
   "outputs": [
    {
     "data": {
      "text/plain": [
       "0    6\n",
       "1    3\n",
       "2    2\n",
       "3    3\n",
       "Name: Re_sigma_xx, dtype: int64"
      ]
     },
     "execution_count": 77,
     "metadata": {},
     "output_type": "execute_result"
    }
   ],
   "source": [
    "data.Re_sigma_xx"
   ]
  },
  {
   "cell_type": "code",
   "execution_count": 124,
   "metadata": {},
   "outputs": [
    {
     "data": {
      "text/plain": [
       "array([[0., 0., 0.],\n",
       "       [0., 0., 0.],\n",
       "       [0., 0., 5.]])"
      ]
     },
     "execution_count": 124,
     "metadata": {},
     "output_type": "execute_result"
    }
   ],
   "source": [
    "from scipy.linalg import block_diag\n",
    "\n",
    "block_diag(np.zeros((2,2)),5)"
   ]
  },
  {
   "cell_type": "code",
   "execution_count": 129,
   "metadata": {},
   "outputs": [
    {
     "data": {
      "text/plain": [
       "array([[0., 1., 0., 0., 0., 0.],\n",
       "       [1., 0., 0., 0., 0., 0.],\n",
       "       [0., 0., 0., 1., 0., 0.],\n",
       "       [0., 0., 1., 0., 0., 0.],\n",
       "       [0., 0., 0., 0., 0., 1.],\n",
       "       [0., 0., 0., 0., 1., 0.]])"
      ]
     },
     "execution_count": 129,
     "metadata": {},
     "output_type": "execute_result"
    }
   ],
   "source": [
    "sigma = np.zeros((2,2))\n",
    "sigma[0][0]=sigma[1][1]=0\n",
    "sigma[1][0]=sigma[0][1]=1\n",
    "np.kron(np.identity(3),sigma)"
   ]
  },
  {
   "cell_type": "code",
   "execution_count": null,
   "metadata": {},
   "outputs": [],
   "source": []
  }
 ],
 "metadata": {
  "kernelspec": {
   "display_name": "Python 3",
   "language": "python",
   "name": "python3"
  },
  "language_info": {
   "codemirror_mode": {
    "name": "ipython",
    "version": 3
   },
   "file_extension": ".py",
   "mimetype": "text/x-python",
   "name": "python",
   "nbconvert_exporter": "python",
   "pygments_lexer": "ipython3",
   "version": "3.8.5"
  }
 },
 "nbformat": 4,
 "nbformat_minor": 4
}
